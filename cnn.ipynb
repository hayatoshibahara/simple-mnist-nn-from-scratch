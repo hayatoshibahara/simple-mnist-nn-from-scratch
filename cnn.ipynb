{
 "cells": [
  {
   "cell_type": "markdown",
   "metadata": {
    "id": "VuwKRnF6wtba"
   },
   "source": [
    "# 画像識別AIをつくろう（CNN編）\n"
   ]
  },
  {
   "cell_type": "markdown",
   "metadata": {},
   "source": [
    "手書き数字の画像のデータセットMNISTを使用して、画像から数字を推論する機械学習モデルを作ります。\n",
    "\n",
    "### 手順\n",
    "\n",
    "1. 環境構築\n",
    "1. データセットのダウンロードと変換\n",
    "1. データローダーの作成\n",
    "1. 機械学習モデルの実装\n",
    "1. 学習\n",
    "1. 評価"
   ]
  },
  {
   "cell_type": "markdown",
   "metadata": {},
   "source": [
    "## 1.環境構築"
   ]
  },
  {
   "cell_type": "code",
   "execution_count": 37,
   "metadata": {
    "id": "CVTGqCGYwtbe"
   },
   "outputs": [],
   "source": [
    "# PytorchとPytorchVisionをインポート\n",
    "# Pytorch: https://pytorch.org\n",
    "# PytorchVision: https://pytorch.org/vision/stable/index.html\n",
    "\n",
    "import torch\n",
    "import torchvision"
   ]
  },
  {
   "cell_type": "code",
   "execution_count": 38,
   "metadata": {
    "colab": {
     "base_uri": "https://localhost:8080/"
    },
    "id": "Fsv9V4e3zRjr",
    "outputId": "a9a985df-5276-48f1-eafd-b1b35aa5a424"
   },
   "outputs": [
    {
     "data": {
      "text/plain": [
       "True"
      ]
     },
     "execution_count": 38,
     "metadata": {},
     "output_type": "execute_result"
    }
   ],
   "source": [
    "# Google Colabの場合、右上のランタイムの設定で「T4」を選択\n",
    "# PytorchのコマンドでGPUが利用可能かを確認\n",
    "# ColabのGPU詳細: https://mccormickml.com/2024/04/23/colab-gpus-features-and-pricing/\n",
    "\n",
    "torch.cuda.is_available()"
   ]
  },
  {
   "cell_type": "code",
   "execution_count": 39,
   "metadata": {
    "id": "JnM88HSFwtbg"
   },
   "outputs": [],
   "source": [
    "# NumpyとMatplotlibをインポート\n",
    "# Numpy: https://numpy.org/\n",
    "# Matplotlib: https://matplotlib.org/\n",
    "\n",
    "import numpy as np\n",
    "import matplotlib.pyplot as plt"
   ]
  },
  {
   "cell_type": "markdown",
   "metadata": {},
   "source": [
    "## 2. データセットのダウンロードと変換\n",
    "\n",
    "手書き数字のデータセットである [MNIST] をダウンロードし、学習しやすいように変換する \n",
    "\n",
    "[MNIST]: https://en.wikipedia.org/wiki/MNIST_database"
   ]
  },
  {
   "cell_type": "code",
   "execution_count": 40,
   "metadata": {},
   "outputs": [],
   "source": [
    "# 2-1. データセットのダウンロード\n",
    "\n",
    "train_dataset = torchvision.datasets.MNIST(\"./data\", train=True, download=True)\n",
    "test_dataset = torchvision.datasets.MNIST(\"./data\", train=False, download=True)"
   ]
  },
  {
   "cell_type": "code",
   "execution_count": 41,
   "metadata": {},
   "outputs": [
    {
     "name": "stdout",
     "output_type": "stream",
     "text": [
      "60000 10000\n",
      "<class 'PIL.Image.Image'> <class 'int'>\n"
     ]
    },
    {
     "data": {
      "text/plain": [
       "((28, 28), 5)"
      ]
     },
     "execution_count": 41,
     "metadata": {},
     "output_type": "execute_result"
    },
    {
     "data": {
      "image/png": "[encoded data removed]",
      "text/plain": [
       "<Figure size 640x480 with 1 Axes>"
      ]
     },
     "metadata": {},
     "output_type": "display_data"
    }
   ],
   "source": [
    "# 2-2. データセットの確認\n",
    "\n",
    "print(len(train_dataset), len(test_dataset))\n",
    "print(type(train_dataset[0][0]), type(train_dataset[0][1]))\n",
    "plt.imshow(train_dataset[0][0], cmap=\"gray\")\n",
    "train_dataset[0][0].size, train_dataset[0][1]\n",
    "\n",
    "# データ数は訓練データが 60,000、テストデータが 10,000 ある\n",
    "# 入力は 28 x 28 の PIL 画像、出力はラベル\n",
    "# PIL Image モジュール: https://pillow.readthedocs.io/en/stable/reference/Image.html"
   ]
  },
  {
   "cell_type": "code",
   "execution_count": 42,
   "metadata": {},
   "outputs": [
    {
     "name": "stdout",
     "output_type": "stream",
     "text": [
      "訓練データの最大値: 255.0 最小値: 0.0\n",
      "訓練データの平均値: 0.13066047430038452 標準偏差: 0.30810779333114624\n",
      "テストデータの最大値: 255.0 最小値: 0.0\n",
      "テストデータの平均値: 0.1325145959854126 標準偏差: 0.3104802668094635\n"
     ]
    }
   ],
   "source": [
    "# 2-3. データセットの統計の確認\n",
    "\n",
    "train_max = train_dataset.data.max().float().item()\n",
    "train_min = train_dataset.data.min().float().item()\n",
    "print(\"訓練データの最大値:\", train_max, \"最小値:\", train_min)\n",
    "\n",
    "train_scaled_mean = (train_dataset.data.float().mean() / train_max).item()\n",
    "train_scaled_std = (train_dataset.data.float().std() / train_max).item()\n",
    "print(\"訓練データの平均値:\", train_scaled_mean, \"標準偏差:\", train_scaled_std)\n",
    "\n",
    "test_max = test_dataset.data.max().float().item()\n",
    "test_min = test_dataset.data.min().float().item()\n",
    "print(\"テストデータの最大値:\", test_max, \"最小値:\", test_min)\n",
    "\n",
    "test_scaled_mean = (test_dataset.data.float().mean() / test_max).item()\n",
    "test_scaled_std = (test_dataset.data.float().std() / test_max).item()\n",
    "print(\"テストデータの平均値:\", test_scaled_mean, \"標準偏差:\", test_scaled_std)"
   ]
  },
  {
   "cell_type": "code",
   "execution_count": 43,
   "metadata": {},
   "outputs": [],
   "source": [
    "# 2-4. データセットの変換\n",
    "# PIL画像をテンソル（torch.Tensor）に変換し、 正規化する\n",
    "# 正規化の計算式: output = (input - mean) / std\n",
    "\n",
    "train_transform = torchvision.transforms.Compose([\n",
    "    torchvision.transforms.ToTensor(),\n",
    "    torchvision.transforms.Normalize((train_scaled_mean,), (train_scaled_std,))\n",
    "])\n",
    "\n",
    "test_transform = torchvision.transforms.Compose([\n",
    "    torchvision.transforms.ToTensor(),\n",
    "    torchvision.transforms.Normalize((test_scaled_mean,), (test_scaled_std,))\n",
    "])\n",
    "\n",
    "train_dataset = torchvision.datasets.MNIST(\"./data\", train=True, transform=train_transform)\n",
    "test_dataset = torchvision.datasets.MNIST(\"./data\", train=False, transform=test_transform)"
   ]
  },
  {
   "cell_type": "code",
   "execution_count": 44,
   "metadata": {},
   "outputs": [
    {
     "name": "stdout",
     "output_type": "stream",
     "text": [
      "テンソルの形 torch.Size([1, 28, 28])\n",
      "最小値 -0.4240739047527313\n",
      "最大値 2.8215434551239014\n",
      "平均 0.022782936692237854\n",
      "標準偏差 1.014410376548767\n"
     ]
    },
    {
     "data": {
      "text/plain": [
       "tensor([[[-0.4241, -0.4241, -0.4241, -0.4241, -0.4241, -0.4241, -0.4241,\n",
       "          -0.4241, -0.4241, -0.4241, -0.4241, -0.4241, -0.4241, -0.4241,\n",
       "          -0.4241, -0.4241, -0.4241, -0.4241, -0.4241, -0.4241, -0.4241,\n",
       "          -0.4241, -0.4241, -0.4241, -0.4241, -0.4241, -0.4241, -0.4241],\n",
       "         [-0.4241, -0.4241, -0.4241, -0.4241, -0.4241, -0.4241, -0.4241,\n",
       "          -0.4241, -0.4241, -0.4241, -0.4241, -0.4241, -0.4241, -0.4241,\n",
       "          -0.4241, -0.4241, -0.4241, -0.4241, -0.4241, -0.4241, -0.4241,\n",
       "          -0.4241, -0.4241, -0.4241, -0.4241, -0.4241, -0.4241, -0.4241],\n",
       "         [-0.4241, -0.4241, -0.4241, -0.4241, -0.4241, -0.4241, -0.4241,\n",
       "          -0.4241, -0.4241, -0.4241, -0.4241, -0.4241, -0.4241, -0.4241,\n",
       "          -0.4241, -0.4241, -0.4241, -0.4241, -0.4241, -0.4241, -0.4241,\n",
       "          -0.4241, -0.4241, -0.4241, -0.4241, -0.4241, -0.4241, -0.4241],\n",
       "         [-0.4241, -0.4241, -0.4241, -0.4241, -0.4241, -0.4241, -0.4241,\n",
       "          -0.4241, -0.4241, -0.4241, -0.4241, -0.4241, -0.4241, -0.4241,\n",
       "          -0.4241, -0.4241, -0.4241, -0.4241, -0.4241, -0.4241, -0.4241,\n",
       "          -0.4241, -0.4241, -0.4241, -0.4241, -0.4241, -0.4241, -0.4241],\n",
       "         [-0.4241, -0.4241, -0.4241, -0.4241, -0.4241, -0.4241, -0.4241,\n",
       "          -0.4241, -0.4241, -0.4241, -0.4241, -0.4241, -0.4241, -0.4241,\n",
       "          -0.4241, -0.4241, -0.4241, -0.4241, -0.4241, -0.4241, -0.4241,\n",
       "          -0.4241, -0.4241, -0.4241, -0.4241, -0.4241, -0.4241, -0.4241],\n",
       "         [-0.4241, -0.4241, -0.4241, -0.4241, -0.4241, -0.4241, -0.4241,\n",
       "          -0.4241, -0.4241, -0.4241, -0.4241, -0.4241, -0.3859, -0.1950,\n",
       "          -0.1950, -0.1950,  1.1796,  1.3069,  1.8033, -0.0931,  1.6888,\n",
       "           2.8215,  2.7197,  1.1924, -0.4241, -0.4241, -0.4241, -0.4241],\n",
       "         [-0.4241, -0.4241, -0.4241, -0.4241, -0.4241, -0.4241, -0.4241,\n",
       "          -0.4241, -0.0422,  0.0341,  0.7723,  1.5360,  1.7397,  2.7961,\n",
       "           2.7961,  2.7961,  2.7961,  2.7961,  2.4397,  1.7651,  2.7961,\n",
       "           2.6561,  2.0579,  0.3905, -0.4241, -0.4241, -0.4241, -0.4241],\n",
       "         [-0.4241, -0.4241, -0.4241, -0.4241, -0.4241, -0.4241, -0.4241,\n",
       "           0.1996,  2.6052,  2.7961,  2.7961,  2.7961,  2.7961,  2.7961,\n",
       "           2.7961,  2.7961,  2.7961,  2.7706,  0.7596,  0.6196,  0.6196,\n",
       "           0.2887,  0.0723, -0.4241, -0.4241, -0.4241, -0.4241, -0.4241],\n",
       "         [-0.4241, -0.4241, -0.4241, -0.4241, -0.4241, -0.4241, -0.4241,\n",
       "          -0.1950,  2.3633,  2.7961,  2.7961,  2.7961,  2.7961,  2.7961,\n",
       "           2.0961,  1.8924,  2.7197,  2.6434, -0.4241, -0.4241, -0.4241,\n",
       "          -0.4241, -0.4241, -0.4241, -0.4241, -0.4241, -0.4241, -0.4241],\n",
       "         [-0.4241, -0.4241, -0.4241, -0.4241, -0.4241, -0.4241, -0.4241,\n",
       "          -0.4241,  0.5942,  1.5615,  0.9378,  2.7961,  2.7961,  2.1851,\n",
       "          -0.2841, -0.4241,  0.1232,  1.5360, -0.4241, -0.4241, -0.4241,\n",
       "          -0.4241, -0.4241, -0.4241, -0.4241, -0.4241, -0.4241, -0.4241],\n",
       "         [-0.4241, -0.4241, -0.4241, -0.4241, -0.4241, -0.4241, -0.4241,\n",
       "          -0.4241, -0.4241, -0.2459, -0.4113,  1.5360,  2.7961,  0.7214,\n",
       "          -0.4241, -0.4241, -0.4241, -0.4241, -0.4241, -0.4241, -0.4241,\n",
       "          -0.4241, -0.4241, -0.4241, -0.4241, -0.4241, -0.4241, -0.4241],\n",
       "         [-0.4241, -0.4241, -0.4241, -0.4241, -0.4241, -0.4241, -0.4241,\n",
       "          -0.4241, -0.4241, -0.4241, -0.4241,  1.3451,  2.7961,  1.9942,\n",
       "          -0.3986, -0.4241, -0.4241, -0.4241, -0.4241, -0.4241, -0.4241,\n",
       "          -0.4241, -0.4241, -0.4241, -0.4241, -0.4241, -0.4241, -0.4241],\n",
       "         [-0.4241, -0.4241, -0.4241, -0.4241, -0.4241, -0.4241, -0.4241,\n",
       "          -0.4241, -0.4241, -0.4241, -0.4241, -0.2841,  1.9942,  2.7961,\n",
       "           0.4669, -0.4241, -0.4241, -0.4241, -0.4241, -0.4241, -0.4241,\n",
       "          -0.4241, -0.4241, -0.4241, -0.4241, -0.4241, -0.4241, -0.4241],\n",
       "         [-0.4241, -0.4241, -0.4241, -0.4241, -0.4241, -0.4241, -0.4241,\n",
       "          -0.4241, -0.4241, -0.4241, -0.4241, -0.4241,  0.0214,  2.6434,\n",
       "           2.4397,  1.6124,  0.9505, -0.4113, -0.4241, -0.4241, -0.4241,\n",
       "          -0.4241, -0.4241, -0.4241, -0.4241, -0.4241, -0.4241, -0.4241],\n",
       "         [-0.4241, -0.4241, -0.4241, -0.4241, -0.4241, -0.4241, -0.4241,\n",
       "          -0.4241, -0.4241, -0.4241, -0.4241, -0.4241, -0.4241,  0.6069,\n",
       "           2.6306,  2.7961,  2.7961,  1.0905, -0.1059, -0.4241, -0.4241,\n",
       "          -0.4241, -0.4241, -0.4241, -0.4241, -0.4241, -0.4241, -0.4241],\n",
       "         [-0.4241, -0.4241, -0.4241, -0.4241, -0.4241, -0.4241, -0.4241,\n",
       "          -0.4241, -0.4241, -0.4241, -0.4241, -0.4241, -0.4241, -0.4241,\n",
       "           0.1487,  1.9433,  2.7961,  2.7961,  1.4851, -0.0804, -0.4241,\n",
       "          -0.4241, -0.4241, -0.4241, -0.4241, -0.4241, -0.4241, -0.4241],\n",
       "         [-0.4241, -0.4241, -0.4241, -0.4241, -0.4241, -0.4241, -0.4241,\n",
       "          -0.4241, -0.4241, -0.4241, -0.4241, -0.4241, -0.4241, -0.4241,\n",
       "          -0.4241, -0.2204,  0.7596,  2.7834,  2.7961,  1.9560, -0.4241,\n",
       "          -0.4241, -0.4241, -0.4241, -0.4241, -0.4241, -0.4241, -0.4241],\n",
       "         [-0.4241, -0.4241, -0.4241, -0.4241, -0.4241, -0.4241, -0.4241,\n",
       "          -0.4241, -0.4241, -0.4241, -0.4241, -0.4241, -0.4241, -0.4241,\n",
       "          -0.4241, -0.4241, -0.4241,  2.7452,  2.7961,  2.7452,  0.3905,\n",
       "          -0.4241, -0.4241, -0.4241, -0.4241, -0.4241, -0.4241, -0.4241],\n",
       "         [-0.4241, -0.4241, -0.4241, -0.4241, -0.4241, -0.4241, -0.4241,\n",
       "          -0.4241, -0.4241, -0.4241, -0.4241, -0.4241, -0.4241, -0.4241,\n",
       "           0.1614,  1.2306,  1.9051,  2.7961,  2.7961,  2.2106, -0.3986,\n",
       "          -0.4241, -0.4241, -0.4241, -0.4241, -0.4241, -0.4241, -0.4241],\n",
       "         [-0.4241, -0.4241, -0.4241, -0.4241, -0.4241, -0.4241, -0.4241,\n",
       "          -0.4241, -0.4241, -0.4241, -0.4241, -0.4241,  0.0723,  1.4597,\n",
       "           2.4906,  2.7961,  2.7961,  2.7961,  2.7579,  1.8924, -0.4241,\n",
       "          -0.4241, -0.4241, -0.4241, -0.4241, -0.4241, -0.4241, -0.4241],\n",
       "         [-0.4241, -0.4241, -0.4241, -0.4241, -0.4241, -0.4241, -0.4241,\n",
       "          -0.4241, -0.4241, -0.4241, -0.1186,  1.0269,  2.3888,  2.7961,\n",
       "           2.7961,  2.7961,  2.7961,  2.1342,  0.5687, -0.4241, -0.4241,\n",
       "          -0.4241, -0.4241, -0.4241, -0.4241, -0.4241, -0.4241, -0.4241],\n",
       "         [-0.4241, -0.4241, -0.4241, -0.4241, -0.4241, -0.4241, -0.4241,\n",
       "          -0.4241, -0.1313,  0.4160,  2.2870,  2.7961,  2.7961,  2.7961,\n",
       "           2.7961,  2.0961,  0.6069, -0.3986, -0.4241, -0.4241, -0.4241,\n",
       "          -0.4241, -0.4241, -0.4241, -0.4241, -0.4241, -0.4241, -0.4241],\n",
       "         [-0.4241, -0.4241, -0.4241, -0.4241, -0.4241, -0.4241, -0.1950,\n",
       "           1.7524,  2.3633,  2.7961,  2.7961,  2.7961,  2.7961,  2.0579,\n",
       "           0.5942, -0.3095, -0.4241, -0.4241, -0.4241, -0.4241, -0.4241,\n",
       "          -0.4241, -0.4241, -0.4241, -0.4241, -0.4241, -0.4241, -0.4241],\n",
       "         [-0.4241, -0.4241, -0.4241, -0.4241,  0.2760,  1.7651,  2.4524,\n",
       "           2.7961,  2.7961,  2.7961,  2.7961,  2.6815,  1.2687, -0.2841,\n",
       "          -0.4241, -0.4241, -0.4241, -0.4241, -0.4241, -0.4241, -0.4241,\n",
       "          -0.4241, -0.4241, -0.4241, -0.4241, -0.4241, -0.4241, -0.4241],\n",
       "         [-0.4241, -0.4241, -0.4241, -0.4241,  1.3069,  2.7961,  2.7961,\n",
       "           2.7961,  2.2742,  1.2942,  1.2560, -0.2204, -0.4241, -0.4241,\n",
       "          -0.4241, -0.4241, -0.4241, -0.4241, -0.4241, -0.4241, -0.4241,\n",
       "          -0.4241, -0.4241, -0.4241, -0.4241, -0.4241, -0.4241, -0.4241],\n",
       "         [-0.4241, -0.4241, -0.4241, -0.4241, -0.4241, -0.4241, -0.4241,\n",
       "          -0.4241, -0.4241, -0.4241, -0.4241, -0.4241, -0.4241, -0.4241,\n",
       "          -0.4241, -0.4241, -0.4241, -0.4241, -0.4241, -0.4241, -0.4241,\n",
       "          -0.4241, -0.4241, -0.4241, -0.4241, -0.4241, -0.4241, -0.4241],\n",
       "         [-0.4241, -0.4241, -0.4241, -0.4241, -0.4241, -0.4241, -0.4241,\n",
       "          -0.4241, -0.4241, -0.4241, -0.4241, -0.4241, -0.4241, -0.4241,\n",
       "          -0.4241, -0.4241, -0.4241, -0.4241, -0.4241, -0.4241, -0.4241,\n",
       "          -0.4241, -0.4241, -0.4241, -0.4241, -0.4241, -0.4241, -0.4241],\n",
       "         [-0.4241, -0.4241, -0.4241, -0.4241, -0.4241, -0.4241, -0.4241,\n",
       "          -0.4241, -0.4241, -0.4241, -0.4241, -0.4241, -0.4241, -0.4241,\n",
       "          -0.4241, -0.4241, -0.4241, -0.4241, -0.4241, -0.4241, -0.4241,\n",
       "          -0.4241, -0.4241, -0.4241, -0.4241, -0.4241, -0.4241, -0.4241]]])"
      ]
     },
     "execution_count": 44,
     "metadata": {},
     "output_type": "execute_result"
    }
   ],
   "source": [
    "# 2-5. 変換後のデータの確認\n",
    "# 最初の画像を数字で表示してみる\n",
    "\n",
    "x = train_dataset[0][0]\n",
    "\n",
    "print(\"テンソルの形\", x.shape)\n",
    "print(\"最小値\", x.min().item())\n",
    "print(\"最大値\", x.max().item())\n",
    "print(\"平均\", x.mean().item())\n",
    "print(\"標準偏差\", x.std().item())\n",
    "x"
   ]
  },
  {
   "cell_type": "code",
   "execution_count": 45,
   "metadata": {
    "colab": {
     "base_uri": "https://localhost:8080/",
     "height": 439
    },
    "id": "mp1488Oxwtbg",
    "outputId": "a1f486e6-b344-43b7-a5a1-74d74820bc2b"
   },
   "outputs": [
    {
     "data": {
      "image/png": "[encoded data removed]",
      "text/plain": [
       "<Figure size 640x480 with 6 Axes>"
      ]
     },
     "metadata": {},
     "output_type": "display_data"
    }
   ],
   "source": [
    "# 訓練データの画像を試しに表示してみる\n",
    "\n",
    "for i in range(6):\n",
    "    # 2行3列のグリッドのi+1番目を描画\n",
    "    plt.subplot(2, 3, i + 1)\n",
    "    # 画像のテンソルを取得\n",
    "    image_tensor = train_dataset[i][0]\n",
    "    image_tensor = image_tensor * train_scaled_std + train_scaled_mean\n",
    "    # (チャンネル, 縦, 横) -> (縦, 横, チャンネル)\n",
    "    permuted = image_tensor.permute(1, 2, 0)\n",
    "\n",
    "    plt.title(f\"Label: {train_dataset[i][1]}\")\n",
    "    plt.xticks([])\n",
    "    plt.yticks([])\n",
    "    plt.tight_layout()\n",
    "\n",
    "    plt.imshow(permuted, cmap=\"gray\")"
   ]
  },
  {
   "cell_type": "markdown",
   "metadata": {},
   "source": [
    "# 2.データーローダーの作成\n",
    "\n",
    "学習時にサンプルをバッチに分けて処理するため、データローダーにデータセットを読み込ませる"
   ]
  },
  {
   "cell_type": "code",
   "execution_count": 46,
   "metadata": {
    "colab": {
     "base_uri": "https://localhost:8080/"
    },
    "id": "6pY4EXmowtbh",
    "outputId": "0d249a4f-178b-4568-8bfa-236fce1937f6"
   },
   "outputs": [
    {
     "name": "stdout",
     "output_type": "stream",
     "text": [
      "サンプル数 60000 10000\n",
      "バッチ数 938 10\n",
      "バッチサイズ(1バッチあたりのサンプル数) 64 1000\n"
     ]
    }
   ],
   "source": [
    "# 60,000 の訓練データを 64 ずつのバッチに分ける\n",
    "# shuffle は一定ごとに（エポックごとに）データをシャッフルする\n",
    "# バッチのサイズは大きいほど学習が安定するが、メモリを多く消費する\n",
    "# DataLoader: https://pytorch.org/docs/stable/data.html#torch.utils.data.DataLoader\n",
    "train_loader = torch.utils.data.DataLoader(train_dataset, batch_size=64, shuffle=True)\n",
    "\n",
    "# 10,000 のテストデータを 1000 ずつのバッチに分ける\n",
    "# テストデータは推論結果を評価し比較するためシャッフルしない\n",
    "test_loader = torch.utils.data.DataLoader(test_dataset, batch_size=1000, shuffle=False)\n",
    "\n",
    "print(\"サンプル数\", len(train_dataset), len(test_dataset))\n",
    "print(\"バッチ数\", len(train_loader), len(test_loader))\n",
    "print(\"バッチサイズ(1バッチあたりのサンプル数)\", train_loader.batch_size, test_loader.batch_size)"
   ]
  },
  {
   "cell_type": "markdown",
   "metadata": {},
   "source": [
    "# 3.機械学習モデルの実装\n",
    "\n",
    "- 2層の「畳み込み層」と2層の「全結合層」で実装する\n",
    "- ざっくりとした処理の流れ\n",
    "    1. 入力（白黒画像）\n",
    "    1. 畳み込み層（チャンネル数を増やす）\n",
    "    1. マックスプーリング（小さくする）\n",
    "    1. 畳み込み層（チャンネル数を増やす）\n",
    "    1. マックスプーリング（小さくする）\n",
    "    1. 全結合層（1次元にして要素を少なく）\n",
    "    1. 全結合層（要素を10個に絞る）\n",
    "    1. ソフトマックス（10個の数字の確率に変換）\n",
    "    1. 出力（0~9の数字の確率）\n",
    "- [実装のイメージ](https://towardsdatascience.com/a-comprehensive-guide-to-convolutional-neural-networks-the-eli5-way-3bd2b1164a53)"
   ]
  },
  {
   "cell_type": "code",
   "execution_count": 47,
   "metadata": {
    "colab": {
     "base_uri": "https://localhost:8080/"
    },
    "id": "43X1LAQqwtbi",
    "outputId": "d8cf4700-ae51-4765-e383-fae5626f9ef4"
   },
   "outputs": [
    {
     "data": {
      "text/plain": [
       "Net(\n",
       "  (conv1): Conv2d(1, 10, kernel_size=(5, 5), stride=(1, 1))\n",
       "  (conv2): Conv2d(10, 20, kernel_size=(5, 5), stride=(1, 1))\n",
       "  (conv2_drop): Dropout2d(p=0.5, inplace=False)\n",
       "  (fc1): Linear(in_features=320, out_features=50, bias=True)\n",
       "  (fc2): Linear(in_features=50, out_features=10, bias=True)\n",
       ")"
      ]
     },
     "execution_count": 47,
     "metadata": {},
     "output_type": "execute_result"
    }
   ],
   "source": [
    "# 3-1. モデルの定義\n",
    "\n",
    "import torch.nn as nn\n",
    "import torch.nn.functional as F\n",
    "\n",
    "# 機械学習モデルを実装する場合、まずnn.Moduleを継承したクラスを作成する\n",
    "# https://pytorch.org/docs/stable/generated/torch.nn.Module.html\n",
    "class Net(nn.Module):\n",
    "    def __init__(self):\n",
    "        # 親クラスのコンストラクタを呼び出す\n",
    "        super(Net, self).__init__()\n",
    "\n",
    "        # 畳み込み層: フィルターを使って画像の特徴を抽出するための層（convolutional layer）\n",
    "        # https://pytorch.org/docs/stable/generated/torch.nn.Conv2d.html\n",
    "        self.conv1 = nn.Conv2d(1, 10, kernel_size=5)\n",
    "        self.conv2 = nn.Conv2d(10, 20, kernel_size=5)\n",
    "\n",
    "        # ドロップアウト: 過学習を防ぐための手法\n",
    "        # Dropout\n",
    "        # https://pytorch.org/docs/stable/generated/torch.nn.Dropout2d.html#dropout2d\n",
    "        self.conv2_drop = nn.Dropout2d()\n",
    "\n",
    "        # 全結合層: 1次元のテンソルを受け取り、出力を行う層(Fully connected layer）\n",
    "        # https://pytorch.org/docs/stable/generated/torch.nn.Linear.html\n",
    "        self.fc1 = nn.Linear(320, 50)\n",
    "        self.fc2 = nn.Linear(50, 10)\n",
    "\n",
    "    def forward(self, x, debug=False):\n",
    "        if debug: print(f\"入力データの次元: {x.shape}\")\n",
    "\n",
    "        # 1x28x28 -> 10x24x24に畳み込み\n",
    "        x = self.conv1(x)\n",
    "        if debug: print(f\"畳み込み１層後: {x.shape}\")\n",
    "\n",
    "        # 10x24x24 -> 10x12x12にプーリング\n",
    "        x = F.max_pool2d(x, 2)\n",
    "        if debug: print(f\"プーリング１層後: {x.shape}\")\n",
    "\n",
    "        # ReLU活性化関数を適用\n",
    "        x = F.relu(x)\n",
    "\n",
    "        # 10x12x12 -> 20x8x8に畳み込み\n",
    "        x = self.conv2(x)\n",
    "        if debug: print(f\"畳み込み２層後: {x.shape}\")\n",
    "\n",
    "        # ドロップアウトを適用\n",
    "        x = self.conv2_drop(x)\n",
    "\n",
    "        # 20x8x8 -> 20x4x4にプーリング\n",
    "        x = F.max_pool2d(x, 2)\n",
    "        if debug: print(f\"プーリング２層後: {x.shape}\")\n",
    "\n",
    "        # ReLU活性化関数を適用\n",
    "        x = F.relu(x)\n",
    "\n",
    "        # 20x4x4 -> 320 の1次元テンソルに変換\n",
    "        x = x.view(-1, 320)\n",
    "        if debug: print(f\"1次元テンソルに変換後: {x.shape}\")\n",
    "\n",
    "        # 320 -> 50 の1次元テンソルに変換\n",
    "        x = self.fc1(x)\n",
    "        if debug: print(f\"全結合層１後: {x.shape}\")\n",
    "\n",
    "        # ReLU活性化関数\n",
    "        x = F.relu(x)\n",
    "\n",
    "        # ドロップアウトを適用\n",
    "        x = F.dropout(x, training=self.training)\n",
    "\n",
    "        # 50 -> 10 の1次元テンソルに変換\n",
    "        x = self.fc2(x)\n",
    "        if debug: print(f\"全結合層２後: {x.shape}\")\n",
    "\n",
    "        # ソフトマックス関数でロジットを確率に変換\n",
    "        return F.log_softmax(x, dim=1)\n",
    "\n",
    "Net()"
   ]
  },
  {
   "cell_type": "code",
   "execution_count": 48,
   "metadata": {
    "colab": {
     "base_uri": "https://localhost:8080/"
    },
    "id": "HQ6l9As0wtbi",
    "outputId": "c05739fe-a7d4-42b7-d851-75d93fcd2afe"
   },
   "outputs": [
    {
     "name": "stdout",
     "output_type": "stream",
     "text": [
      "各層のパラメータ:\n",
      "conv1.weight: 250個 cuda:0に存在\n",
      "conv1.bias: 10個 cuda:0に存在\n",
      "conv2.weight: 5000個 cuda:0に存在\n",
      "conv2.bias: 20個 cuda:0に存在\n",
      "fc1.weight: 16000個 cuda:0に存在\n",
      "fc1.bias: 50個 cuda:0に存在\n",
      "fc2.weight: 500個 cuda:0に存在\n",
      "fc2.bias: 10個 cuda:0に存在\n",
      "\n",
      "合計パラメータ数: 21840個\n"
     ]
    }
   ],
   "source": [
    "# 3-2. パラメータ数の確認\n",
    "\n",
    "# モデルのインスタンス化\n",
    "model = Net()\n",
    "\n",
    "# GPUかCPUかを確認し、GPUの場合はモデルをGPUに転送\n",
    "device = torch.device(\"cuda\" if torch.cuda.is_available() else \"cpu\")\n",
    "model.to(device)\n",
    "\n",
    "print(\"各層のパラメータ:\")\n",
    "total_params = 0\n",
    "for name, param in model.named_parameters():\n",
    "    print(f\"{name}: {np.prod(param.size())}個 {param.device}に存在\")\n",
    "    total_params += param.numel()\n",
    "\n",
    "print(f\"\\n合計パラメータ数: {total_params}個\")"
   ]
  },
  {
   "cell_type": "markdown",
   "metadata": {},
   "source": [
    "## 4.学習\n",
    "\n",
    "- [ニューラルネットワークの仕組み（YouTube）](https://www.youtube.com/watch?v=tc8RTtwvd5U)\n",
    "- さっくりとした手順\n",
    "    1. データローダーから64枚のデータ（バッチ）を読み込み準備\n",
    "    1. 画像からラベルを推論\n",
    "    1. 誤差を計算\n",
    "    1. 誤差が少なくなるように 21840 個パラメータを調整\n",
    "    1. 以上を 938 回（バッチの数）だけ繰り返す\n",
    "    1. モデルの評価を行う\n",
    "    1. 以上を 5 回（エポック数）繰り返す"
   ]
  },
  {
   "cell_type": "code",
   "execution_count": 49,
   "metadata": {
    "id": "USLUvwCKwtbi"
   },
   "outputs": [],
   "source": [
    "# 4-1. 手順に沿った関数の定義\n",
    "# 注意：分かりやすさのため「損失」を「誤差」と表現しています\n",
    "\n",
    "from torch.optim import SGD\n",
    "\n",
    "def train(num_epochs=1, debug=False):\n",
    "    model = Net().to(device)\n",
    "\n",
    "    # 最適化関数（optimizer）: 誤差が少なくするようにパタメータを調整するためのオブジェクト\n",
    "    # アルゴリズムは確率的勾配降下法（Stochastic Gradient Descent）を使用\n",
    "    # https://optimization.cbe.cornell.edu/images/f/f8/Visualization_of_stochastic_gradient_descent.png\n",
    "    optimizer = SGD(model.parameters(), lr=0.01, momentum=0.5)\n",
    "\n",
    "    # ログ\n",
    "    train_log_x = []\n",
    "    train_log_y = []\n",
    "    test_log_x = []\n",
    "    test_log_y = []\n",
    "\n",
    "    # エポックはデータセットを周回する回数\n",
    "    for epoch in range(num_epochs):\n",
    "        if not debug: print(f\"エポック: {epoch + 1}\")\n",
    "\n",
    "        for batch_index, (data, target) in enumerate(train_loader):\n",
    "            ####################################\n",
    "            # ① 学習データからバッチを読み込み準備する\n",
    "            ####################################\n",
    "\n",
    "            # 学習モードに設定\n",
    "            model.train()\n",
    "\n",
    "            # 最適化関数を初期化\n",
    "            optimizer.zero_grad()\n",
    "\n",
    "            # データをGPUに転送\n",
    "            data, target = data.to(device), target.to(device)\n",
    "\n",
    "            #####################\n",
    "            # ② 画像からラベルを推論\n",
    "            #####################\n",
    "\n",
    "            output = model(data, debug=debug)\n",
    "\n",
    "            #############\n",
    "            # ③ 誤差を計算\n",
    "            #############\n",
    "\n",
    "            # アルゴリズムは負の対数尤度損失関数（Negative Loss Likelihood）を使用\n",
    "            loss = F.nll_loss(output, target)\n",
    "\n",
    "            ############################################\n",
    "            # ④ 誤差が少なくなるように 21840 個のパラメータを調整\n",
    "            ############################################\n",
    "\n",
    "            loss.backward()\n",
    "            optimizer.step()\n",
    "\n",
    "            # 100バッチごとに進捗を表示\n",
    "            if batch_index % 100 == 0 and not debug:\n",
    "                data_num = batch_index * len(data)\n",
    "                dataset_data_num = len(train_dataset)\n",
    "                total_trained = data_num + epoch * dataset_data_num\n",
    "                train_log_x.append(total_trained)\n",
    "                train_log_y.append(loss.item())\n",
    "                print(f\"バッチ:{batch_index}, データ:{data_num}/{dataset_data_num}, 損失: {loss.item()}\")\n",
    "\n",
    "                # モデルを保存\n",
    "                model_file_path = f\"./model.path\"\n",
    "                optimizer_file_path = \"./optimizer.pth\"\n",
    "                torch.save(model.state_dict(), model_file_path)\n",
    "                torch.save(optimizer.state_dict(), optimizer_file_path)\n",
    "\n",
    "            if debug: return\n",
    "\n",
    "            #################################\n",
    "            # ⑤ 以上を 938 回（バッチの数）繰り返す\n",
    "            #################################\n",
    "\n",
    "        ##################\n",
    "        # ⑥モデルの評価を行う\n",
    "        ##################\n",
    "\n",
    "        model.eval()\n",
    "        test_loss = 0\n",
    "        correct = 0\n",
    "        with torch.no_grad():\n",
    "            # テスト用のデータローダーから画像を読み込む\n",
    "            for data, target in test_loader:\n",
    "\n",
    "                # GPUに転送\n",
    "                data = data.to(device)\n",
    "                target = target.to(device)\n",
    "\n",
    "                # 推論\n",
    "                output = model(data)\n",
    "\n",
    "                # 誤差を計算し、あとから平均を取るために足し合わせる\n",
    "                test_loss += F.nll_loss(output, target, reduction=\"sum\").item()\n",
    "\n",
    "                # もっとも確率の高い数字を抽出\n",
    "                pred = output.data.max(1, keepdim=True)[1]\n",
    "\n",
    "                # 予測した数字とラベルを比較し、正解数をカウント\n",
    "                correct += pred.eq(target.data.view_as(pred)).sum()\n",
    "\n",
    "        # サンプル数で割って平均誤差を計算\n",
    "        test_loss /= len(test_dataset)\n",
    "\n",
    "        # ログを保存\n",
    "        test_log_x.append(epoch * len(train_dataset))\n",
    "        test_log_y.append(test_loss)\n",
    "        print(f\"テストデータでの誤差:{test_loss}, 正解率: ({int(100. * correct / len(test_dataset))}%)\")\n",
    "\n",
    "        ################################\n",
    "        # ⑦ 以上を 5 回（エポック数）繰り返す\n",
    "        ################################\n",
    "\n",
    "    # 最後にログをプロット\n",
    "    plt.figure()\n",
    "    plt.plot(train_log_x, train_log_y, label=\"train\", color=\"blue\")\n",
    "    plt.scatter(test_log_x, test_log_y, label=\"test\", color=\"red\")\n",
    "    plt.legend([\"train\", \"test\"])\n",
    "    plt.xlabel(\"Number of training data\")\n",
    "    plt.ylabel(\"Negative log likelihood loss\")\n"
   ]
  },
  {
   "cell_type": "code",
   "execution_count": 50,
   "metadata": {
    "colab": {
     "base_uri": "https://localhost:8080/"
    },
    "id": "85KzaQNEwtbj",
    "outputId": "595c93c5-d7ed-40ce-e45e-4b5769e4f25d"
   },
   "outputs": [
    {
     "name": "stdout",
     "output_type": "stream",
     "text": [
      "入力データの次元: torch.Size([64, 1, 28, 28])\n",
      "畳み込み１層後: torch.Size([64, 10, 24, 24])\n",
      "プーリング１層後: torch.Size([64, 10, 12, 12])\n",
      "畳み込み２層後: torch.Size([64, 20, 8, 8])\n",
      "プーリング２層後: torch.Size([64, 20, 4, 4])\n",
      "1次元テンソルに変換後: torch.Size([64, 320])\n",
      "全結合層１後: torch.Size([64, 50])\n",
      "全結合層２後: torch.Size([64, 10])\n"
     ]
    }
   ],
   "source": [
    "# 4-2. テンソルの形の変化を観察\n",
    "\n",
    "# 1エポックでテスト\n",
    "train(1, debug=True)\n",
    "\n",
    "# 64はバッチサイズ（画像の枚数）"
   ]
  },
  {
   "cell_type": "code",
   "execution_count": 51,
   "metadata": {
    "colab": {
     "base_uri": "https://localhost:8080/",
     "height": 1000
    },
    "id": "6hB50TTkwtbj",
    "outputId": "f11cc155-10e0-4e18-f5be-0d6d0c3f3a5e"
   },
   "outputs": [
    {
     "name": "stdout",
     "output_type": "stream",
     "text": [
      "エポック: 1\n",
      "バッチ:0, データ:0/60000, 損失: 2.364628553390503\n",
      "バッチ:100, データ:6400/60000, 損失: 2.1301779747009277\n",
      "バッチ:200, データ:12800/60000, 損失: 1.1932719945907593\n",
      "バッチ:300, データ:19200/60000, 損失: 0.8608965873718262\n",
      "バッチ:400, データ:25600/60000, 損失: 0.8445034027099609\n",
      "バッチ:500, データ:32000/60000, 損失: 0.52352374792099\n",
      "バッチ:600, データ:38400/60000, 損失: 0.5361452698707581\n",
      "バッチ:700, データ:44800/60000, 損失: 0.40734535455703735\n",
      "バッチ:800, データ:51200/60000, 損失: 0.47373247146606445\n",
      "バッチ:900, データ:57600/60000, 損失: 0.38274696469306946\n",
      "テストデータでの誤差:0.1783249412536621, 正解率: (94%)\n",
      "エポック: 2\n",
      "バッチ:0, データ:0/60000, 損失: 0.612269937992096\n",
      "バッチ:100, データ:6400/60000, 損失: 0.2966894507408142\n",
      "バッチ:200, データ:12800/60000, 損失: 0.3414497673511505\n",
      "バッチ:300, データ:19200/60000, 損失: 0.43300074338912964\n",
      "バッチ:400, データ:25600/60000, 損失: 0.5055458545684814\n",
      "バッチ:500, データ:32000/60000, 損失: 0.22123587131500244\n",
      "バッチ:600, データ:38400/60000, 損失: 0.6508743762969971\n",
      "バッチ:700, データ:44800/60000, 損失: 0.3902426064014435\n",
      "バッチ:800, データ:51200/60000, 損失: 0.27851665019989014\n",
      "バッチ:900, データ:57600/60000, 損失: 0.2527007460594177\n",
      "テストデータでの誤差:0.11110507717132569, 正解率: (96%)\n",
      "エポック: 3\n",
      "バッチ:0, データ:0/60000, 損失: 0.48175522685050964\n",
      "バッチ:100, データ:6400/60000, 損失: 0.2090781331062317\n",
      "バッチ:200, データ:12800/60000, 損失: 0.3624589741230011\n",
      "バッチ:300, データ:19200/60000, 損失: 0.30785131454467773\n",
      "バッチ:400, データ:25600/60000, 損失: 0.23323220014572144\n",
      "バッチ:500, データ:32000/60000, 損失: 0.314737468957901\n",
      "バッチ:600, データ:38400/60000, 損失: 0.08822157233953476\n",
      "バッチ:700, データ:44800/60000, 損失: 0.2611277997493744\n",
      "バッチ:800, データ:51200/60000, 損失: 0.23205605149269104\n",
      "バッチ:900, データ:57600/60000, 損失: 0.2196802943944931\n",
      "テストデータでの誤差:0.08550553150177002, 正解率: (97%)\n",
      "エポック: 4\n",
      "バッチ:0, データ:0/60000, 損失: 0.28563371300697327\n",
      "バッチ:100, データ:6400/60000, 損失: 0.28220266103744507\n",
      "バッチ:200, データ:12800/60000, 損失: 0.23946374654769897\n",
      "バッチ:300, データ:19200/60000, 損失: 0.41240811347961426\n",
      "バッチ:400, データ:25600/60000, 損失: 0.12452054768800735\n",
      "バッチ:500, データ:32000/60000, 損失: 0.3007921278476715\n",
      "バッチ:600, データ:38400/60000, 損失: 0.22268228232860565\n",
      "バッチ:700, データ:44800/60000, 損失: 0.1277197152376175\n",
      "バッチ:800, データ:51200/60000, 損失: 0.20883096754550934\n",
      "バッチ:900, データ:57600/60000, 損失: 0.16469427943229675\n",
      "テストデータでの誤差:0.0712259796142578, 正解率: (97%)\n",
      "エポック: 5\n",
      "バッチ:0, データ:0/60000, 損失: 0.0618443563580513\n",
      "バッチ:100, データ:6400/60000, 損失: 0.1673688441514969\n",
      "バッチ:200, データ:12800/60000, 損失: 0.09954074025154114\n",
      "バッチ:300, データ:19200/60000, 損失: 0.24197940528392792\n",
      "バッチ:400, データ:25600/60000, 損失: 0.27590203285217285\n",
      "バッチ:500, データ:32000/60000, 損失: 0.12486622482538223\n",
      "バッチ:600, データ:38400/60000, 損失: 0.1332908719778061\n",
      "バッチ:700, データ:44800/60000, 損失: 0.09472084045410156\n",
      "バッチ:800, データ:51200/60000, 損失: 0.3424653708934784\n",
      "バッチ:900, データ:57600/60000, 損失: 0.30491816997528076\n",
      "テストデータでの誤差:0.06465902547836304, 正解率: (98%)\n"
     ]
    },
    {
     "data": {
      "image/png": "[encoded data removed]",
      "text/plain": [
       "<Figure size 640x480 with 1 Axes>"
      ]
     },
     "metadata": {},
     "output_type": "display_data"
    }
   ],
   "source": [
    "# 4-3. 学習開始\n",
    "\n",
    "train(num_epochs=5)\n",
    "\n",
    "# 正解率は97%程度\n",
    "# 40,000ステップぐらいで収束している"
   ]
  },
  {
   "cell_type": "markdown",
   "metadata": {},
   "source": [
    "## 5. 評価\n",
    "\n",
    "テストデータの画像を変換して試してみる"
   ]
  },
  {
   "cell_type": "code",
   "execution_count": null,
   "metadata": {
    "colab": {
     "base_uri": "https://localhost:8080/",
     "height": 481
    },
    "id": "lkohex79wtbj",
    "outputId": "b0093140-d430-4772-cfc3-253736338233"
   },
   "outputs": [
    {
     "name": "stderr",
     "output_type": "stream",
     "text": [
      "/tmp/ipykernel_3278431/1494007758.py:35: FutureWarning: You are using `torch.load` with `weights_only=False` (the current default value), which uses the default pickle module implicitly. It is possible to construct malicious pickle data which will execute arbitrary code during unpickling (See https://github.com/pytorch/pytorch/blob/main/SECURITY.md#untrusted-models for more details). In a future release, the default value for `weights_only` will be flipped to `True`. This limits the functions that could be executed during unpickling. Arbitrary objects will no longer be allowed to be loaded via this mode unless they are explicitly allowlisted by the user via `torch.serialization.add_safe_globals`. We recommend you start setting `weights_only=True` for any use case where you don't have full control of the loaded file. Please open an issue on GitHub for any issues related to this experimental feature.\n",
      "  model.load_state_dict(torch.load(\"./model.pth\"))\n"
     ]
    },
    {
     "data": {
      "image/png": "[encoded data removed]",
      "text/plain": [
       "<Figure size 640x480 with 1 Axes>"
      ]
     },
     "metadata": {},
     "output_type": "display_data"
    }
   ],
   "source": [
    "# ランダムに画像を選び変形して予測\n",
    "\n",
    "import random\n",
    "\n",
    "def evaluate():\n",
    "    # ランダムにデータを取得\n",
    "    random_index = random.randint(0, len(test_dataset) - 1)\n",
    "    data = test_dataset[random_index]\n",
    "\n",
    "    # ガウシアンノイズを乗せて画像を回転する関数を作成\n",
    "    augument_sample = torchvision.transforms.Compose([\n",
    "        torchvision.transforms.GaussianBlur(kernel_size=(5, 9), sigma=(0.1, 3)),\n",
    "        torchvision.transforms.RandomRotation(degrees=(0, 60)),\n",
    "    ]);\n",
    "\n",
    "\n",
    "    # 画像を変換\n",
    "    image_tensor = augument_sample(data[0])\n",
    "\n",
    "    # モデルの推論様に前処理する関数を作成\n",
    "    # 28x28にリサイズし、白黒に変換、正規化\n",
    "    transform_sample = torchvision.transforms.Compose([\n",
    "        torchvision.transforms.Resize((28, 28)),\n",
    "        torchvision.transforms.Grayscale(num_output_channels=1),\n",
    "        torchvision.transforms.Normalize((test_scaled_mean,), (test_scaled_std,))\n",
    "    ])\n",
    "\n",
    "    # 関数を適用\n",
    "    transformed = transform_sample(image_tensor)\n",
    "\n",
    "    # モデルをロード（省略可能）\n",
    "    # model = Net().to(device)\n",
    "    # model.load_state_dict(torch.load(\"./model.pth\"))\n",
    "\n",
    "    # 評価モードに設定（勾配を計算しない）\n",
    "    model.eval()\n",
    "\n",
    "    # 推論しロジットを出力\n",
    "    prediction = model(transformed.unsqueeze(0).to(device))\n",
    "\n",
    "    # ノイズを乗せて回転された画像を表示\n",
    "    image_numpy = image_tensor.squeeze().cpu().detach().numpy()\n",
    "    plt.xticks([])\n",
    "    plt.yticks([])\n",
    "    plt.imshow(image_numpy, cmap=\"gray\")\n",
    "\n",
    "    # 推論結果を表示\n",
    "    plt.title(f\"Predicted: {prediction.argmax().item()}, Label: {data[1]}\")\n",
    "\n",
    "evaluate()"
   ]
  }
 ],
 "metadata": {
  "accelerator": "GPU",
  "colab": {
   "gpuType": "T4",
   "provenance": []
  },
  "kernelspec": {
   "display_name": "py312",
   "language": "python",
   "name": "python3"
  },
  "language_info": {
   "codemirror_mode": {
    "name": "ipython",
    "version": 3
   },
   "file_extension": ".py",
   "mimetype": "text/x-python",
   "name": "python",
   "nbconvert_exporter": "python",
   "pygments_lexer": "ipython3",
   "version": "3.12.7"
  }
 },
 "nbformat": 4,
 "nbformat_minor": 0
}
