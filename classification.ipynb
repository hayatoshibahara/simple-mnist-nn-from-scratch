{
 "cells": [
  {
   "cell_type": "markdown",
   "metadata": {
    "id": "VuwKRnF6wtba"
   },
   "source": [
    "# 数字の画像識別AIをつくろう\n"
   ]
  },
  {
   "cell_type": "markdown",
   "metadata": {},
   "source": [
    "手書き数字の画像のデータセットMNISTを使用して、画像から数字を推論する機械学習モデルを作ります。\n",
    "\n",
    "### 手順\n",
    "\n",
    "1. データセットのダウンロードと変換\n",
    "1. データローダーの作成\n",
    "1. 機械学習モデルの実装\n",
    "1. 学習\n",
    "1. 評価"
   ]
  },
  {
   "cell_type": "code",
   "execution_count": null,
   "metadata": {
    "id": "CVTGqCGYwtbe"
   },
   "outputs": [],
   "source": [
    "import torch\n",
    "import torchvision"
   ]
  },
  {
   "cell_type": "code",
   "execution_count": null,
   "metadata": {
    "colab": {
     "base_uri": "https://localhost:8080/"
    },
    "id": "Fsv9V4e3zRjr",
    "outputId": "a9a985df-5276-48f1-eafd-b1b35aa5a424"
   },
   "outputs": [
    {
     "data": {
      "text/plain": [
       "True"
      ]
     },
     "execution_count": 4,
     "metadata": {},
     "output_type": "execute_result"
    }
   ],
   "source": [
    "# Google Colabの場合、右上のランタイムの設定でT4を選択\n",
    "# GPUが利用可能かを確認\n",
    "torch.cuda.is_available()"
   ]
  },
  {
   "cell_type": "code",
   "execution_count": 5,
   "metadata": {
    "id": "JnM88HSFwtbg"
   },
   "outputs": [],
   "source": [
    "import numpy as np\n",
    "import matplotlib.pyplot as plt"
   ]
  },
  {
   "cell_type": "markdown",
   "metadata": {},
   "source": [
    "## 1.データセットのダウンロードと変換"
   ]
  },
  {
   "cell_type": "code",
   "execution_count": 21,
   "metadata": {
    "colab": {
     "base_uri": "https://localhost:8080/"
    },
    "id": "cWnkgNz8wtbg",
    "outputId": "6565d292-b8be-43bb-8dbc-6f3e4b3a5e6e"
   },
   "outputs": [
    {
     "name": "stdout",
     "output_type": "stream",
     "text": [
      "サンプル数 60000 10000\n"
     ]
    },
    {
     "data": {
      "text/plain": [
       "torchvision.datasets.mnist.MNIST"
      ]
     },
     "execution_count": 21,
     "metadata": {},
     "output_type": "execute_result"
    }
   ],
   "source": [
    "# 今回は手書き数字のデータセットであるMNISTを使用する\n",
    "\n",
    "# データを変換するための関数を定義\n",
    "transform = torchvision.transforms.Compose([\n",
    "    # PIL画像をテンソルに変換\n",
    "    torchvision.transforms.ToTensor(),\n",
    "    # MNISTデータセットの平均と標準偏差を使って正規化し、平均0、標準偏差1に変換\n",
    "    # 正規化することで学習が安定する\n",
    "    torchvision.transforms.Normalize((0.1307,), (0.3081,))\n",
    "])\n",
    "\n",
    "# VisionDatasetを使用すると様々なデータセットをダウンロードできる\n",
    "# https://pytorch.org/vision/main/datasets.html\n",
    "\n",
    "# 訓練データ\n",
    "train_dataset = torchvision.datasets.MNIST(\n",
    "    \"./data\", train=True, download=True, transform=transform\n",
    ")\n",
    "\n",
    "# テストデータ\n",
    "test_dataset = torchvision.datasets.MNIST(\n",
    "    \"./data\", train=False, download=True, transform=transform\n",
    ")\n",
    "\n",
    "print(\"サンプル数\", len(train_dataset), len(test_dataset))\n",
    "type(train_dataset)\n",
    "\n",
    "# サンプル数はそれぞれ6万件と1万件"
   ]
  },
  {
   "cell_type": "code",
   "execution_count": 15,
   "metadata": {
    "colab": {
     "base_uri": "https://localhost:8080/",
     "height": 439
    },
    "id": "mp1488Oxwtbg",
    "outputId": "a1f486e6-b344-43b7-a5a1-74d74820bc2b"
   },
   "outputs": [
    {
     "data": {
      "image/png": "[encoded data removed]",
      "text/plain": [
       "<Figure size 640x480 with 6 Axes>"
      ]
     },
     "metadata": {},
     "output_type": "display_data"
    }
   ],
   "source": [
    "# 訓練データの画像をmatplitlibで試しに表示してみる\n",
    "\n",
    "fig = plt.figure()\n",
    "\n",
    "for i in range(6):\n",
    "    # 2行3列のグリッドのi+1番目を描画\n",
    "    plt.subplot(2, 3, i + 1)\n",
    "    # 画像のテンソルを取得\n",
    "    image_tensor = train_dataset[i][0]\n",
    "    # -0.5 ~ 0.5 -> 0 ~ 1 に変換\n",
    "    unnormalized_image = image_tensor / 2 + 0.5\n",
    "    # (1, 28, 28) -> (28, 28, 1) に変換\n",
    "    # (Channel, Hight, Width) -> (Hight, Width, Channel)\n",
    "    permuted = unnormalized_image.permute(1, 2, 0)\n",
    "\n",
    "    plt.title(f\"Label: {train_dataset[i][1]}\")\n",
    "    plt.xticks([])\n",
    "    plt.yticks([])\n",
    "    plt.tight_layout()\n",
    "\n",
    "    plt.imshow(permuted, cmap=\"gray\")"
   ]
  },
  {
   "cell_type": "markdown",
   "metadata": {},
   "source": [
    "# 2.データーローダーの作成"
   ]
  },
  {
   "cell_type": "code",
   "execution_count": 20,
   "metadata": {
    "colab": {
     "base_uri": "https://localhost:8080/"
    },
    "id": "6pY4EXmowtbh",
    "outputId": "0d249a4f-178b-4568-8bfa-236fce1937f6"
   },
   "outputs": [
    {
     "name": "stdout",
     "output_type": "stream",
     "text": [
      "サンプル数 60000 10000\n",
      "バッチ数 938 10\n",
      "バッチサイズ(1バッチあたりのサンプル数) 64 1000\n"
     ]
    },
    {
     "data": {
      "text/plain": [
       "torch.utils.data.dataloader.DataLoader"
      ]
     },
     "execution_count": 20,
     "metadata": {},
     "output_type": "execute_result"
    }
   ],
   "source": [
    "# データーローダーとは、学習時にサンプルのまとまり（バッチ）ごとにデータを読み込むためのオブジェクト\n",
    "\n",
    "train_loader = torch.utils.data.DataLoader(train_dataset, batch_size=64, shuffle=True)\n",
    "test_loader = torch.utils.data.DataLoader(test_dataset, batch_size=1000, shuffle=False)\n",
    "\n",
    "print(\"サンプル数\", len(train_dataset), len(test_dataset))\n",
    "print(\"バッチ数\", len(train_loader), len(test_loader))\n",
    "print(\"バッチサイズ(1バッチあたりのサンプル数)\", train_loader.batch_size, test_loader.batch_size)\n",
    "type(train_loader)"
   ]
  },
  {
   "cell_type": "markdown",
   "metadata": {},
   "source": [
    "# 3.機械学習モデルの実装"
   ]
  },
  {
   "cell_type": "code",
   "execution_count": 22,
   "metadata": {
    "colab": {
     "base_uri": "https://localhost:8080/"
    },
    "id": "43X1LAQqwtbi",
    "outputId": "d8cf4700-ae51-4765-e383-fae5626f9ef4"
   },
   "outputs": [
    {
     "data": {
      "text/plain": [
       "Net(\n",
       "  (conv1): Conv2d(1, 10, kernel_size=(5, 5), stride=(1, 1))\n",
       "  (conv2): Conv2d(10, 20, kernel_size=(5, 5), stride=(1, 1))\n",
       "  (conv2_drop): Dropout2d(p=0.5, inplace=False)\n",
       "  (fc1): Linear(in_features=320, out_features=50, bias=True)\n",
       "  (fc2): Linear(in_features=50, out_features=10, bias=True)\n",
       ")"
      ]
     },
     "execution_count": 22,
     "metadata": {},
     "output_type": "execute_result"
    }
   ],
   "source": [
    "# 実装のイメージ\n",
    "# https://miro.medium.com/v2/resize:fit:3744/1*SGPGG7oeSvVlV5sOSQ2iZw.png\n",
    "\n",
    "import torch.nn as nn\n",
    "import torch.nn.functional as F\n",
    "\n",
    "# 機械学習モデルを実装する場合、まずnn.Moduleを継承したクラスを作成する\n",
    "# https://pytorch.org/docs/stable/generated/torch.nn.Module.html\n",
    "class Net(nn.Module):\n",
    "    def __init__(self):\n",
    "        # 親クラスのコンストラクタを呼び出す\n",
    "        super(Net, self).__init__()\n",
    "\n",
    "        # 畳み込み層(convolution)の定義\n",
    "        # フィルターを使って画像の特徴を抽出するための層\n",
    "        # https://pytorch.org/docs/stable/generated/torch.nn.Conv2d.html\n",
    "        self.conv1 = nn.Conv2d(1, 10, kernel_size=5)\n",
    "        self.conv2 = nn.Conv2d(10, 20, kernel_size=5)\n",
    "\n",
    "        # ドロップアウトの定義\n",
    "        # ドロップアウトは過学習を防ぐための手法\n",
    "        # https://pytorch.org/docs/stable/generated/torch.nn.Dropout2d.html#dropout2d\n",
    "        self.conv2_drop = nn.Dropout2d()\n",
    "\n",
    "        # 全結合層の定義\n",
    "        # 畳み込み層で抽出した特徴を元に、最終的な出力（数字ごとの確率）を行う層\n",
    "        # https://pytorch.org/docs/stable/generated/torch.nn.Linear.html\n",
    "        self.fc1 = nn.Linear(320, 50)\n",
    "        self.fc2 = nn.Linear(50, 10)\n",
    "\n",
    "    def forward(self, x, debug=False):\n",
    "        if debug: print(f\"入力データの次元: {x.shape}\")\n",
    "\n",
    "        # 1x28x28 -> 10x24x24に畳み込み\n",
    "        x = self.conv1(x)\n",
    "        if debug: print(f\"畳み込み１層後: {x.shape}\")\n",
    "\n",
    "        # 10x24x24 -> 10x12x12にプーリング\n",
    "        x = F.max_pool2d(x, 2)\n",
    "        if debug: print(f\"プーリング１層後: {x.shape}\")\n",
    "\n",
    "        # ReLU活性化関数を適用\n",
    "        x = F.relu(x)\n",
    "\n",
    "        # 10x12x12 -> 20x8x8に畳み込み\n",
    "        x = self.conv2(x)\n",
    "        if debug: print(f\"畳み込み２層後: {x.shape}\")\n",
    "\n",
    "        # ドロップアウトを適用\n",
    "        x = self.conv2_drop(x)\n",
    "\n",
    "        # 20x8x8 -> 20x4x4にプーリング\n",
    "        x = F.max_pool2d(x, 2)\n",
    "        if debug: print(f\"プーリング２層後: {x.shape}\")\n",
    "\n",
    "        # ReLU活性化関数を適用\n",
    "        x = F.relu(x)\n",
    "\n",
    "        # 20x4x4 -> 320 の1次元テンソルに変換\n",
    "        x = x.view(-1, 320)\n",
    "        if debug: print(f\"1次元テンソルに変換後: {x.shape}\")\n",
    "\n",
    "        # 320 -> 50 の1次元テンソルに変換\n",
    "        x = self.fc1(x)\n",
    "        if debug: print(f\"全結合層１後: {x.shape}\")\n",
    "\n",
    "        # ReLU活性化関数\n",
    "        x = F.relu(x)\n",
    "\n",
    "        # ドロップアウトを適用\n",
    "        x = F.dropout(x, training=self.training)\n",
    "\n",
    "        # 50 -> 10 の1次元テンソルに変換\n",
    "        x = self.fc2(x)\n",
    "        if debug: print(f\"全結合層２後: {x.shape}\")\n",
    "\n",
    "        # ソフトマックス関数でロジットを確率に変換\n",
    "        return F.log_softmax(x, dim=1)\n",
    "\n",
    "Net()"
   ]
  },
  {
   "cell_type": "code",
   "execution_count": 24,
   "metadata": {
    "colab": {
     "base_uri": "https://localhost:8080/"
    },
    "id": "HQ6l9As0wtbi",
    "outputId": "c05739fe-a7d4-42b7-d851-75d93fcd2afe"
   },
   "outputs": [
    {
     "name": "stdout",
     "output_type": "stream",
     "text": [
      "\n",
      "各層のパラメータ:\n",
      "conv1.weight: 250個 cuda:0に存在\n",
      "conv1.bias: 10個 cuda:0に存在\n",
      "conv2.weight: 5000個 cuda:0に存在\n",
      "conv2.bias: 20個 cuda:0に存在\n",
      "fc1.weight: 16000個 cuda:0に存在\n",
      "fc1.bias: 50個 cuda:0に存在\n",
      "fc2.weight: 500個 cuda:0に存在\n",
      "fc2.bias: 10個 cuda:0に存在\n",
      "\n",
      "合計パラメータ数: 21840個\n"
     ]
    }
   ],
   "source": [
    "# パラメータの確認\n",
    "\n",
    "# モデルのインスタンス化\n",
    "model = Net()\n",
    "\n",
    "# GPUかCPUかを確認\n",
    "device = torch.device(\"cuda\" if torch.cuda.is_available() else \"cpu\")\n",
    "\n",
    "# GPUの場合はモデルをGPUに転送\n",
    "model.to(device)\n",
    "\n",
    "print(\"\\n各層のパラメータ:\")\n",
    "total_params = 0\n",
    "for name, param in model.named_parameters():\n",
    "    print(f\"{name}: {np.prod(param.size())}個 {param.device}に存在\")\n",
    "    total_params += param.numel()\n",
    "\n",
    "print(f\"\\n合計パラメータ数: {total_params}個\")"
   ]
  },
  {
   "cell_type": "markdown",
   "metadata": {},
   "source": [
    "## 4.学習"
   ]
  },
  {
   "cell_type": "code",
   "execution_count": 25,
   "metadata": {
    "id": "USLUvwCKwtbi"
   },
   "outputs": [],
   "source": [
    "from torch.optim import SGD\n",
    "\n",
    "def train(num_epochs=1, debug=False):\n",
    "    model = Net().to(device)\n",
    "\n",
    "    # 損失関数を定義\n",
    "    # 今回使用する損失関数は確率的勾配降下法（Stochstic Gradient Descent）\n",
    "    # 誤差が最小になるように少しずつパラメータを更新する方法\n",
    "    # https://optimization.cbe.cornell.edu/images/f/f8/Visualization_of_stochastic_gradient_descent.png\n",
    "    optimizer = SGD(model.parameters(), lr=0.01, momentum=0.5)\n",
    "\n",
    "    # ログ\n",
    "    train_log_x = []\n",
    "    train_log_y = []\n",
    "    test_log_x = []\n",
    "    test_log_y = []\n",
    "\n",
    "    # エポックはデータセットを周回する回数\n",
    "    for epoch in range(num_epochs):\n",
    "        if not debug: print(f\"エポック: {epoch + 1}\")\n",
    "\n",
    "        # 学習データからバッチを読み込む（今回は1000バッチ程度）\n",
    "        for batch_index, (data, target) in enumerate(train_loader):\n",
    "            # 勾配（予測と正解の差分の傾き）を計算する学習モードに設定\n",
    "            model.train()\n",
    "\n",
    "            # 勾配を初期化\n",
    "            optimizer.zero_grad()\n",
    "\n",
    "            # データをGPUに転送\n",
    "            data, target = data.to(device), target.to(device)\n",
    "\n",
    "            # モデルにデータを入力して予測\n",
    "            output = model(data, debug=debug)\n",
    "\n",
    "            # 損失（予測と正解の差分）を計算\n",
    "            # 今回は負の対数尤度損失関数（Negative Loss Likelihood）を使用\n",
    "            loss = F.nll_loss(output, target)\n",
    "\n",
    "            # 全ての層の勾配を計算\n",
    "            loss.backward()\n",
    "\n",
    "            # 全ての層のパラメータを更新\n",
    "            optimizer.step()\n",
    "\n",
    "            # 100バッチごとに進捗を表示\n",
    "            if batch_index % 100 == 0 and not debug:\n",
    "                data_num = batch_index * len(data)\n",
    "                dataset_data_num = len(train_loader.dataset)\n",
    "                total_trained = data_num + epoch * dataset_data_num\n",
    "                train_log_x.append(total_trained)\n",
    "                train_log_y.append(loss.item())\n",
    "                print(f\"バッチ:{batch_index}, データ:{data_num}/{dataset_data_num}, 損失: {loss.item()}\")\n",
    "\n",
    "                # モデルを保存\n",
    "                model_file_path = f\"./model.path\"\n",
    "                optimizer_file_path = \"./optimizer.pth\"\n",
    "                torch.save(model.state_dict(), model_file_path)\n",
    "                torch.save(optimizer.state_dict(), optimizer_file_path)\n",
    "                print(f\"モデルを保存しました: {model_file_path}\")\n",
    "                print(f\"オプティマイザを保存しました: {optimizer_file_path}\")\n",
    "\n",
    "            if debug: return\n",
    "\n",
    "        # エポック毎にテストデータで評価\n",
    "        model.eval()\n",
    "        test_loss = 0\n",
    "        correct = 0\n",
    "        with torch.no_grad():\n",
    "            # テスト用のデータローダーからバッチを読み込む（10バッチ）\n",
    "            for data, target in test_loader:\n",
    "\n",
    "                # GPUに転送\n",
    "                data = data.to(device)\n",
    "                target = target.to(device)\n",
    "\n",
    "                # 推論\n",
    "                output = model(data)\n",
    "\n",
    "                # 損失を計算し、蓄積\n",
    "                test_loss += F.nll_loss(output, target, reduction=\"sum\").item()\n",
    "\n",
    "                # もっとも確率の高いクラスを抽出\n",
    "                pred = output.data.max(1, keepdim=True)[1]\n",
    "\n",
    "                # 抽出したクラスと正解を比較し、正解数をカウント\n",
    "                correct += pred.eq(target.data.view_as(pred)).sum()\n",
    "\n",
    "        # サンプル数で割って平均損失を計算\n",
    "        test_loss /= len(test_loader.dataset)\n",
    "\n",
    "        # ログを保存\n",
    "        test_log_x.append(epoch * len(train_loader.dataset))\n",
    "        test_log_y.append(test_loss)\n",
    "        print(f\"テストデータでの損失:{test_loss}, 正解率: ({int(100. * correct / len(test_loader.dataset))}%)\")\n",
    "\n",
    "    # ログをプロット\n",
    "    plt.figure()\n",
    "    plt.plot(train_log_x, train_log_y, label=\"train\", color=\"blue\")\n",
    "    plt.scatter(test_log_x, test_log_y, label=\"test\", color=\"red\")\n",
    "    plt.legend([\"train\", \"test\"])\n",
    "    plt.xlabel(\"Number of training data\")\n",
    "    plt.ylabel(\"Negative log likelihood loss\")\n"
   ]
  },
  {
   "cell_type": "code",
   "execution_count": 27,
   "metadata": {
    "colab": {
     "base_uri": "https://localhost:8080/"
    },
    "id": "85KzaQNEwtbj",
    "outputId": "595c93c5-d7ed-40ce-e45e-4b5769e4f25d"
   },
   "outputs": [
    {
     "name": "stdout",
     "output_type": "stream",
     "text": [
      "入力データの次元: torch.Size([64, 1, 28, 28])\n",
      "畳み込み１層後: torch.Size([64, 10, 24, 24])\n",
      "プーリング１層後: torch.Size([64, 10, 12, 12])\n",
      "畳み込み２層後: torch.Size([64, 20, 8, 8])\n",
      "プーリング２層後: torch.Size([64, 20, 4, 4])\n",
      "1次元テンソルに変換後: torch.Size([64, 320])\n",
      "全結合層１後: torch.Size([64, 50])\n",
      "全結合層２後: torch.Size([64, 10])\n"
     ]
    }
   ],
   "source": [
    "# 1エポックでテスト\n",
    "train(1, debug=True)\n",
    "\n",
    "# 64はバッチサイズ"
   ]
  },
  {
   "cell_type": "code",
   "execution_count": 28,
   "metadata": {
    "colab": {
     "base_uri": "https://localhost:8080/",
     "height": 1000
    },
    "id": "6hB50TTkwtbj",
    "outputId": "f11cc155-10e0-4e18-f5be-0d6d0c3f3a5e"
   },
   "outputs": [
    {
     "name": "stdout",
     "output_type": "stream",
     "text": [
      "エポック: 1\n",
      "バッチ:0, データ:0/60000, 損失: 2.2753357887268066\n",
      "モデルを保存しました: ./model.path\n",
      "オプティマイザを保存しました: ./optimizer.pth\n",
      "バッチ:100, データ:6400/60000, 損失: 2.1562516689300537\n",
      "モデルを保存しました: ./model.path\n",
      "オプティマイザを保存しました: ./optimizer.pth\n",
      "バッチ:200, データ:12800/60000, 損失: 1.2390906810760498\n",
      "モデルを保存しました: ./model.path\n",
      "オプティマイザを保存しました: ./optimizer.pth\n",
      "バッチ:300, データ:19200/60000, 損失: 0.7488577365875244\n",
      "モデルを保存しました: ./model.path\n",
      "オプティマイザを保存しました: ./optimizer.pth\n",
      "バッチ:400, データ:25600/60000, 損失: 0.6169015765190125\n",
      "モデルを保存しました: ./model.path\n",
      "オプティマイザを保存しました: ./optimizer.pth\n",
      "バッチ:500, データ:32000/60000, 損失: 0.5897001028060913\n",
      "モデルを保存しました: ./model.path\n",
      "オプティマイザを保存しました: ./optimizer.pth\n",
      "バッチ:600, データ:38400/60000, 損失: 0.6093674302101135\n",
      "モデルを保存しました: ./model.path\n",
      "オプティマイザを保存しました: ./optimizer.pth\n",
      "バッチ:700, データ:44800/60000, 損失: 0.3918871283531189\n",
      "モデルを保存しました: ./model.path\n",
      "オプティマイザを保存しました: ./optimizer.pth\n",
      "バッチ:800, データ:51200/60000, 損失: 0.661591112613678\n",
      "モデルを保存しました: ./model.path\n",
      "オプティマイザを保存しました: ./optimizer.pth\n",
      "バッチ:900, データ:57600/60000, 損失: 0.4582664668560028\n",
      "モデルを保存しました: ./model.path\n",
      "オプティマイザを保存しました: ./optimizer.pth\n",
      "テストデータでの損失:0.20866161499023436, 正解率: (93%)\n",
      "エポック: 2\n",
      "バッチ:0, データ:0/60000, 損失: 0.4197898209095001\n",
      "モデルを保存しました: ./model.path\n",
      "オプティマイザを保存しました: ./optimizer.pth\n",
      "バッチ:100, データ:6400/60000, 損失: 0.6631479263305664\n",
      "モデルを保存しました: ./model.path\n",
      "オプティマイザを保存しました: ./optimizer.pth\n",
      "バッチ:200, データ:12800/60000, 損失: 0.37088391184806824\n",
      "モデルを保存しました: ./model.path\n",
      "オプティマイザを保存しました: ./optimizer.pth\n",
      "バッチ:300, データ:19200/60000, 損失: 0.4419887959957123\n",
      "モデルを保存しました: ./model.path\n",
      "オプティマイザを保存しました: ./optimizer.pth\n",
      "バッチ:400, データ:25600/60000, 損失: 0.33534878492355347\n",
      "モデルを保存しました: ./model.path\n",
      "オプティマイザを保存しました: ./optimizer.pth\n",
      "バッチ:500, データ:32000/60000, 損失: 0.45035624504089355\n",
      "モデルを保存しました: ./model.path\n",
      "オプティマイザを保存しました: ./optimizer.pth\n",
      "バッチ:600, データ:38400/60000, 損失: 0.43446430563926697\n",
      "モデルを保存しました: ./model.path\n",
      "オプティマイザを保存しました: ./optimizer.pth\n",
      "バッチ:700, データ:44800/60000, 損失: 0.26360148191452026\n",
      "モデルを保存しました: ./model.path\n",
      "オプティマイザを保存しました: ./optimizer.pth\n",
      "バッチ:800, データ:51200/60000, 損失: 0.4121282994747162\n",
      "モデルを保存しました: ./model.path\n",
      "オプティマイザを保存しました: ./optimizer.pth\n",
      "バッチ:900, データ:57600/60000, 損失: 0.2909882962703705\n",
      "モデルを保存しました: ./model.path\n",
      "オプティマイザを保存しました: ./optimizer.pth\n",
      "テストデータでの損失:0.1254128074645996, 正解率: (96%)\n",
      "エポック: 3\n",
      "バッチ:0, データ:0/60000, 損失: 0.3114889860153198\n",
      "モデルを保存しました: ./model.path\n",
      "オプティマイザを保存しました: ./optimizer.pth\n",
      "バッチ:100, データ:6400/60000, 損失: 0.2696017324924469\n",
      "モデルを保存しました: ./model.path\n",
      "オプティマイザを保存しました: ./optimizer.pth\n",
      "バッチ:200, データ:12800/60000, 損失: 0.3274177312850952\n",
      "モデルを保存しました: ./model.path\n",
      "オプティマイザを保存しました: ./optimizer.pth\n",
      "バッチ:300, データ:19200/60000, 損失: 0.6323269605636597\n",
      "モデルを保存しました: ./model.path\n",
      "オプティマイザを保存しました: ./optimizer.pth\n",
      "バッチ:400, データ:25600/60000, 損失: 0.40877658128738403\n",
      "モデルを保存しました: ./model.path\n",
      "オプティマイザを保存しました: ./optimizer.pth\n",
      "バッチ:500, データ:32000/60000, 損失: 0.27792295813560486\n",
      "モデルを保存しました: ./model.path\n",
      "オプティマイザを保存しました: ./optimizer.pth\n",
      "バッチ:600, データ:38400/60000, 損失: 0.24958832561969757\n",
      "モデルを保存しました: ./model.path\n",
      "オプティマイザを保存しました: ./optimizer.pth\n",
      "バッチ:700, データ:44800/60000, 損失: 0.190329909324646\n",
      "モデルを保存しました: ./model.path\n",
      "オプティマイザを保存しました: ./optimizer.pth\n",
      "バッチ:800, データ:51200/60000, 損失: 0.35809460282325745\n",
      "モデルを保存しました: ./model.path\n",
      "オプティマイザを保存しました: ./optimizer.pth\n",
      "バッチ:900, データ:57600/60000, 損失: 0.44173672795295715\n",
      "モデルを保存しました: ./model.path\n",
      "オプティマイザを保存しました: ./optimizer.pth\n",
      "テストデータでの損失:0.0980930191040039, 正解率: (96%)\n",
      "エポック: 4\n",
      "バッチ:0, データ:0/60000, 損失: 0.3418661057949066\n",
      "モデルを保存しました: ./model.path\n",
      "オプティマイザを保存しました: ./optimizer.pth\n",
      "バッチ:100, データ:6400/60000, 損失: 0.42794719338417053\n",
      "モデルを保存しました: ./model.path\n",
      "オプティマイザを保存しました: ./optimizer.pth\n",
      "バッチ:200, データ:12800/60000, 損失: 0.19995561242103577\n",
      "モデルを保存しました: ./model.path\n",
      "オプティマイザを保存しました: ./optimizer.pth\n",
      "バッチ:300, データ:19200/60000, 損失: 0.2702651023864746\n",
      "モデルを保存しました: ./model.path\n",
      "オプティマイザを保存しました: ./optimizer.pth\n",
      "バッチ:400, データ:25600/60000, 損失: 0.18096594512462616\n",
      "モデルを保存しました: ./model.path\n",
      "オプティマイザを保存しました: ./optimizer.pth\n",
      "バッチ:500, データ:32000/60000, 損失: 0.17350755631923676\n",
      "モデルを保存しました: ./model.path\n",
      "オプティマイザを保存しました: ./optimizer.pth\n",
      "バッチ:600, データ:38400/60000, 損失: 0.36513379216194153\n",
      "モデルを保存しました: ./model.path\n",
      "オプティマイザを保存しました: ./optimizer.pth\n",
      "バッチ:700, データ:44800/60000, 損失: 0.15441325306892395\n",
      "モデルを保存しました: ./model.path\n",
      "オプティマイザを保存しました: ./optimizer.pth\n",
      "バッチ:800, データ:51200/60000, 損失: 0.3726687729358673\n",
      "モデルを保存しました: ./model.path\n",
      "オプティマイザを保存しました: ./optimizer.pth\n",
      "バッチ:900, データ:57600/60000, 損失: 0.39775651693344116\n",
      "モデルを保存しました: ./model.path\n",
      "オプティマイザを保存しました: ./optimizer.pth\n",
      "テストデータでの損失:0.0847980588912964, 正解率: (97%)\n",
      "エポック: 5\n",
      "バッチ:0, データ:0/60000, 損失: 0.2658812701702118\n",
      "モデルを保存しました: ./model.path\n",
      "オプティマイザを保存しました: ./optimizer.pth\n",
      "バッチ:100, データ:6400/60000, 損失: 0.2647116780281067\n",
      "モデルを保存しました: ./model.path\n",
      "オプティマイザを保存しました: ./optimizer.pth\n",
      "バッチ:200, データ:12800/60000, 損失: 0.11279240250587463\n",
      "モデルを保存しました: ./model.path\n",
      "オプティマイザを保存しました: ./optimizer.pth\n",
      "バッチ:300, データ:19200/60000, 損失: 0.21819613873958588\n",
      "モデルを保存しました: ./model.path\n",
      "オプティマイザを保存しました: ./optimizer.pth\n",
      "バッチ:400, データ:25600/60000, 損失: 0.42855313420295715\n",
      "モデルを保存しました: ./model.path\n",
      "オプティマイザを保存しました: ./optimizer.pth\n",
      "バッチ:500, データ:32000/60000, 損失: 0.2678721249103546\n",
      "モデルを保存しました: ./model.path\n",
      "オプティマイザを保存しました: ./optimizer.pth\n",
      "バッチ:600, データ:38400/60000, 損失: 0.0928059071302414\n",
      "モデルを保存しました: ./model.path\n",
      "オプティマイザを保存しました: ./optimizer.pth\n",
      "バッチ:700, データ:44800/60000, 損失: 0.3269631564617157\n",
      "モデルを保存しました: ./model.path\n",
      "オプティマイザを保存しました: ./optimizer.pth\n",
      "バッチ:800, データ:51200/60000, 損失: 0.3946668207645416\n",
      "モデルを保存しました: ./model.path\n",
      "オプティマイザを保存しました: ./optimizer.pth\n",
      "バッチ:900, データ:57600/60000, 損失: 0.44196227192878723\n",
      "モデルを保存しました: ./model.path\n",
      "オプティマイザを保存しました: ./optimizer.pth\n",
      "テストデータでの損失:0.0780615213394165, 正解率: (97%)\n"
     ]
    },
    {
     "data": {
      "image/png": "[encoded data removed]",
      "text/plain": [
       "<Figure size 640x480 with 1 Axes>"
      ]
     },
     "metadata": {},
     "output_type": "display_data"
    }
   ],
   "source": [
    "# 学習開始\n",
    "train(num_epochs=5)\n",
    "\n",
    "# 正解率は97%程度"
   ]
  },
  {
   "cell_type": "markdown",
   "metadata": {},
   "source": [
    "## 5.評価"
   ]
  },
  {
   "cell_type": "code",
   "execution_count": 29,
   "metadata": {
    "colab": {
     "base_uri": "https://localhost:8080/",
     "height": 481
    },
    "id": "lkohex79wtbj",
    "outputId": "b0093140-d430-4772-cfc3-253736338233"
   },
   "outputs": [
    {
     "name": "stderr",
     "output_type": "stream",
     "text": [
      "/tmp/ipykernel_2461202/183971862.py:35: FutureWarning: You are using `torch.load` with `weights_only=False` (the current default value), which uses the default pickle module implicitly. It is possible to construct malicious pickle data which will execute arbitrary code during unpickling (See https://github.com/pytorch/pytorch/blob/main/SECURITY.md#untrusted-models for more details). In a future release, the default value for `weights_only` will be flipped to `True`. This limits the functions that could be executed during unpickling. Arbitrary objects will no longer be allowed to be loaded via this mode unless they are explicitly allowlisted by the user via `torch.serialization.add_safe_globals`. We recommend you start setting `weights_only=True` for any use case where you don't have full control of the loaded file. Please open an issue on GitHub for any issues related to this experimental feature.\n",
      "  model.load_state_dict(torch.load(\"./model.pth\"))\n"
     ]
    },
    {
     "data": {
      "image/png": "[encoded data removed]",
      "text/plain": [
       "<Figure size 640x480 with 1 Axes>"
      ]
     },
     "metadata": {},
     "output_type": "display_data"
    }
   ],
   "source": [
    "# ランダムに画像を選び変形して予測\n",
    "\n",
    "import random\n",
    "\n",
    "def evaluate():\n",
    "    # ランダムにデータを取得\n",
    "    random_index = random.randint(0, len(test_dataset) - 1)\n",
    "    data = test_dataset[random_index]\n",
    "\n",
    "    # ガウシアンノイズを乗せて画像を回転する関数を作成\n",
    "    augument_sample = torchvision.transforms.Compose([\n",
    "        torchvision.transforms.GaussianBlur(kernel_size=(5, 9), sigma=(0.1, 3)),\n",
    "        torchvision.transforms.RandomRotation(degrees=(0, 60)),\n",
    "    ]);\n",
    "\n",
    "\n",
    "    # 画像を変換\n",
    "    image_tensor = augument_sample(data[0])\n",
    "\n",
    "    # モデルの推論様に前処理する関数を作成\n",
    "    # 28x28にリサイズし、白黒に変換、正規化（平均0、分散1）\n",
    "    transform_sample = torchvision.transforms.Compose([\n",
    "        torchvision.transforms.Resize((28, 28)),\n",
    "        torchvision.transforms.Grayscale(num_output_channels=1),\n",
    "        torchvision.transforms.Normalize((0.1307,), (0.3081,)),\n",
    "    ])\n",
    "\n",
    "    # 関数を適用\n",
    "    transformed = transform_sample(image_tensor)\n",
    "\n",
    "    # モデルを作成し、GPUに転送\n",
    "    model = Net().to(device)\n",
    "\n",
    "    # モデルをロード（省略可能）\n",
    "    model.load_state_dict(torch.load(\"./model.pth\"))\n",
    "\n",
    "    # 評価モードに設定（勾配を計算しない）\n",
    "    model.eval()\n",
    "\n",
    "    # 推論しロジットを出力\n",
    "    prediction = model(transformed.unsqueeze(0).to(device))\n",
    "\n",
    "    # ノイズを乗せて回転された画像を表示\n",
    "    image_numpy = image_tensor.squeeze().cpu().detach().numpy()\n",
    "    plt.xticks([])\n",
    "    plt.yticks([])\n",
    "    plt.imshow(image_numpy, cmap=\"gray\")\n",
    "\n",
    "    # 推論結果を表示\n",
    "    plt.title(f\"Predicted: {prediction.argmax().item()}, Label: {data[1]}\")\n",
    "\n",
    "evaluate()"
   ]
  }
 ],
 "metadata": {
  "accelerator": "GPU",
  "colab": {
   "gpuType": "T4",
   "provenance": []
  },
  "kernelspec": {
   "display_name": "Python 3",
   "name": "python3"
  },
  "language_info": {
   "codemirror_mode": {
    "name": "ipython",
    "version": 3
   },
   "file_extension": ".py",
   "mimetype": "text/x-python",
   "name": "python",
   "nbconvert_exporter": "python",
   "pygments_lexer": "ipython3",
   "version": "3.12.7"
  }
 },
 "nbformat": 4,
 "nbformat_minor": 0
}
