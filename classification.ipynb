{
 "cells": [
  {
   "cell_type": "markdown",
   "metadata": {
    "id": "VuwKRnF6wtba"
   },
   "source": [
    "# 数字識別AIをつくろう\n"
   ]
  },
  {
   "cell_type": "code",
   "execution_count": 2,
   "metadata": {
    "id": "CVTGqCGYwtbe"
   },
   "outputs": [],
   "source": [
    "import torch\n",
    "import torchvision"
   ]
  },
  {
   "cell_type": "code",
   "execution_count": 29,
   "metadata": {
    "colab": {
     "base_uri": "https://localhost:8080/"
    },
    "id": "Fsv9V4e3zRjr",
    "outputId": "a9a985df-5276-48f1-eafd-b1b35aa5a424"
   },
   "outputs": [
    {
     "data": {
      "text/plain": [
       "True"
      ]
     },
     "execution_count": 29,
     "metadata": {},
     "output_type": "execute_result"
    }
   ],
   "source": [
    "# 右上のランタイムの設定でT4を選択\n",
    "# GPUが利用可能かを確認\n",
    "torch.cuda.is_available()"
   ]
  },
  {
   "cell_type": "code",
   "execution_count": 5,
   "metadata": {
    "id": "JnM88HSFwtbg"
   },
   "outputs": [],
   "source": [
    "import numpy as np\n",
    "import matplotlib.pyplot as plt"
   ]
  },
  {
   "cell_type": "code",
   "execution_count": 4,
   "metadata": {
    "colab": {
     "base_uri": "https://localhost:8080/"
    },
    "id": "cWnkgNz8wtbg",
    "outputId": "6565d292-b8be-43bb-8dbc-6f3e4b3a5e6e"
   },
   "outputs": [
    {
     "name": "stdout",
     "output_type": "stream",
     "text": [
      "Downloading http://yann.lecun.com/exdb/mnist/train-images-idx3-ubyte.gz\n",
      "Failed to download (trying next):\n",
      "HTTP Error 403: Forbidden\n",
      "\n",
      "Downloading https://ossci-datasets.s3.amazonaws.com/mnist/train-images-idx3-ubyte.gz\n",
      "Downloading https://ossci-datasets.s3.amazonaws.com/mnist/train-images-idx3-ubyte.gz to ./data/MNIST/raw/train-images-idx3-ubyte.gz\n"
     ]
    },
    {
     "name": "stderr",
     "output_type": "stream",
     "text": [
      "100%|██████████| 9.91M/9.91M [00:00<00:00, 16.4MB/s]\n"
     ]
    },
    {
     "name": "stdout",
     "output_type": "stream",
     "text": [
      "Extracting ./data/MNIST/raw/train-images-idx3-ubyte.gz to ./data/MNIST/raw\n",
      "\n",
      "Downloading http://yann.lecun.com/exdb/mnist/train-labels-idx1-ubyte.gz\n",
      "Failed to download (trying next):\n",
      "HTTP Error 403: Forbidden\n",
      "\n",
      "Downloading https://ossci-datasets.s3.amazonaws.com/mnist/train-labels-idx1-ubyte.gz\n",
      "Downloading https://ossci-datasets.s3.amazonaws.com/mnist/train-labels-idx1-ubyte.gz to ./data/MNIST/raw/train-labels-idx1-ubyte.gz\n"
     ]
    },
    {
     "name": "stderr",
     "output_type": "stream",
     "text": [
      "100%|██████████| 28.9k/28.9k [00:00<00:00, 488kB/s]\n"
     ]
    },
    {
     "name": "stdout",
     "output_type": "stream",
     "text": [
      "Extracting ./data/MNIST/raw/train-labels-idx1-ubyte.gz to ./data/MNIST/raw\n",
      "\n",
      "Downloading http://yann.lecun.com/exdb/mnist/t10k-images-idx3-ubyte.gz\n",
      "Failed to download (trying next):\n",
      "HTTP Error 403: Forbidden\n",
      "\n",
      "Downloading https://ossci-datasets.s3.amazonaws.com/mnist/t10k-images-idx3-ubyte.gz\n",
      "Downloading https://ossci-datasets.s3.amazonaws.com/mnist/t10k-images-idx3-ubyte.gz to ./data/MNIST/raw/t10k-images-idx3-ubyte.gz\n"
     ]
    },
    {
     "name": "stderr",
     "output_type": "stream",
     "text": [
      "100%|██████████| 1.65M/1.65M [00:00<00:00, 4.48MB/s]\n"
     ]
    },
    {
     "name": "stdout",
     "output_type": "stream",
     "text": [
      "Extracting ./data/MNIST/raw/t10k-images-idx3-ubyte.gz to ./data/MNIST/raw\n",
      "\n",
      "Downloading http://yann.lecun.com/exdb/mnist/t10k-labels-idx1-ubyte.gz\n",
      "Failed to download (trying next):\n",
      "HTTP Error 403: Forbidden\n",
      "\n",
      "Downloading https://ossci-datasets.s3.amazonaws.com/mnist/t10k-labels-idx1-ubyte.gz\n",
      "Downloading https://ossci-datasets.s3.amazonaws.com/mnist/t10k-labels-idx1-ubyte.gz to ./data/MNIST/raw/t10k-labels-idx1-ubyte.gz\n"
     ]
    },
    {
     "name": "stderr",
     "output_type": "stream",
     "text": [
      "100%|██████████| 4.54k/4.54k [00:00<00:00, 3.93MB/s]"
     ]
    },
    {
     "name": "stdout",
     "output_type": "stream",
     "text": [
      "Extracting ./data/MNIST/raw/t10k-labels-idx1-ubyte.gz to ./data/MNIST/raw\n",
      "\n"
     ]
    },
    {
     "name": "stderr",
     "output_type": "stream",
     "text": [
      "\n"
     ]
    }
   ],
   "source": [
    "transform = torchvision.transforms.Compose([\n",
    "    torchvision.transforms.ToTensor(),\n",
    "    torchvision.transforms.Normalize((0.1307,), (0.3081,))\n",
    "])\n",
    "\n",
    "# MNISTデータセットのダウンロードと変換\n",
    "train_dataset = torchvision.datasets.MNIST(\n",
    "    \"./data\", train=True, download=True, transform=transform\n",
    ")\n",
    "test_dataset = torchvision.datasets.MNIST(\n",
    "    \"./data\", train=False, download=True, transform=transform\n",
    ")"
   ]
  },
  {
   "cell_type": "code",
   "execution_count": 6,
   "metadata": {
    "colab": {
     "base_uri": "https://localhost:8080/",
     "height": 439
    },
    "id": "mp1488Oxwtbg",
    "outputId": "a1f486e6-b344-43b7-a5a1-74d74820bc2b"
   },
   "outputs": [
    {
     "data": {
      "image/png": "[encoded data removed]",
      "text/plain": [
       "<Figure size 640x480 with 6 Axes>"
      ]
     },
     "metadata": {},
     "output_type": "display_data"
    }
   ],
   "source": [
    "fig = plt.figure()\n",
    "for i in range(6):\n",
    "    plt.subplot(2, 3, i + 1)\n",
    "    plt.tight_layout()\n",
    "    image_tensor = train_dataset[i][0]\n",
    "    # 非正規化\n",
    "    unnormalized_image = image_tensor / 2 + 0.5\n",
    "    # (1, 28, 28) -> (28, 28, 1)\n",
    "    permuted = unnormalized_image.permute(1, 2, 0)\n",
    "    plt.imshow(permuted, cmap=\"gray\")\n",
    "    plt.title(f\"Label: {train_dataset[i][1]}\")\n",
    "    plt.xticks([])\n",
    "    plt.yticks([])"
   ]
  },
  {
   "cell_type": "code",
   "execution_count": 7,
   "metadata": {
    "colab": {
     "base_uri": "https://localhost:8080/"
    },
    "id": "6pY4EXmowtbh",
    "outputId": "0d249a4f-178b-4568-8bfa-236fce1937f6"
   },
   "outputs": [
    {
     "name": "stdout",
     "output_type": "stream",
     "text": [
      "各サンプル数\n",
      "60000\n",
      "10000\n",
      "各バッチ数\n",
      "938\n",
      "10\n",
      "各バッチサイズ（サンプル/バッチ）\n",
      "64\n",
      "1000\n"
     ]
    }
   ],
   "source": [
    "# データローダーの作成\n",
    "train_loader = torch.utils.data.DataLoader(train_dataset, batch_size=64, shuffle=True)\n",
    "\n",
    "test_loader = torch.utils.data.DataLoader(test_dataset, batch_size=1000, shuffle=False)\n",
    "\n",
    "print(\"各サンプル数\")\n",
    "print(len(train_loader.dataset))\n",
    "print(len(test_loader.dataset))\n",
    "print(\"各バッチ数\")\n",
    "print(len(train_loader))\n",
    "print(len(test_loader))\n",
    "print(\"各バッチサイズ（サンプル/バッチ）\")\n",
    "print(train_loader.batch_size)\n",
    "print(test_loader.batch_size)"
   ]
  },
  {
   "cell_type": "code",
   "execution_count": 9,
   "metadata": {
    "colab": {
     "base_uri": "https://localhost:8080/"
    },
    "id": "43X1LAQqwtbi",
    "outputId": "d8cf4700-ae51-4765-e383-fae5626f9ef4"
   },
   "outputs": [
    {
     "data": {
      "text/plain": [
       "Net(\n",
       "  (conv1): Conv2d(1, 10, kernel_size=(5, 5), stride=(1, 1))\n",
       "  (conv2): Conv2d(10, 20, kernel_size=(5, 5), stride=(1, 1))\n",
       "  (conv2_drop): Dropout2d(p=0.5, inplace=False)\n",
       "  (fc1): Linear(in_features=320, out_features=50, bias=True)\n",
       "  (fc2): Linear(in_features=50, out_features=10, bias=True)\n",
       ")"
      ]
     },
     "execution_count": 9,
     "metadata": {},
     "output_type": "execute_result"
    }
   ],
   "source": [
    "import torch.nn as nn\n",
    "import torch.nn.functional as F\n",
    "\n",
    "class Net(nn.Module):\n",
    "    def __init__(self):\n",
    "        # 親クラスのコンストラクタを呼び出す\n",
    "        super(Net, self).__init__()\n",
    "        # 畳み込み層の定義\n",
    "        self.conv1 = nn.Conv2d(1, 10, kernel_size=5)\n",
    "        self.conv2 = nn.Conv2d(10, 20, kernel_size=5)\n",
    "        # ドロップアウトの定義\n",
    "        self.conv2_drop = nn.Dropout2d()\n",
    "        # 全結合層の定義\n",
    "        self.fc1 = nn.Linear(320, 50)\n",
    "        self.fc2 = nn.Linear(50, 10)\n",
    "\n",
    "    def forward(self, x, debug=False):\n",
    "        if debug: print(f\"入力データの次元: {x.shape}\")\n",
    "\n",
    "        x = self.conv1(x)\n",
    "        if debug: print(f\"畳み込み１層後: {x.shape}\")\n",
    "        x = F.max_pool2d(x, 2)\n",
    "        if debug: print(f\"プーリング１層後: {x.shape}\")\n",
    "        x = F.relu(x)\n",
    "\n",
    "        x = self.conv2(x)\n",
    "        if debug: print(f\"畳み込み２層後: {x.shape}\")\n",
    "        x = self.conv2_drop(x)\n",
    "        x = F.max_pool2d(x, 2)\n",
    "        if debug: print(f\"プーリング２層後: {x.shape}\")\n",
    "        x = F.relu(x)\n",
    "\n",
    "        x = x.view(-1, 320)\n",
    "        if debug: print(f\"1次元テンソルに変換後: {x.shape}\")\n",
    "        x = self.fc1(x)\n",
    "        if debug: print(f\"全結合層１後: {x.shape}\")\n",
    "        x = F.relu(x)\n",
    "        x = F.dropout(x, training=self.training)\n",
    "        x = self.fc2(x)\n",
    "        if debug: print(f\"全結合層２後: {x.shape}\")\n",
    "\n",
    "        return F.log_softmax(x, dim=1)\n",
    "\n",
    "Net()"
   ]
  },
  {
   "cell_type": "code",
   "execution_count": 10,
   "metadata": {
    "colab": {
     "base_uri": "https://localhost:8080/"
    },
    "id": "HQ6l9As0wtbi",
    "outputId": "c05739fe-a7d4-42b7-d851-75d93fcd2afe"
   },
   "outputs": [
    {
     "name": "stdout",
     "output_type": "stream",
     "text": [
      "モデルのパラメータの場所: cuda:0\n",
      "\n",
      "各層のパラメータ:\n",
      "conv1.weight: 250個 cuda:0に存在\n",
      "conv1.bias: 10個 cuda:0に存在\n",
      "conv2.weight: 5000個 cuda:0に存在\n",
      "conv2.bias: 20個 cuda:0に存在\n",
      "fc1.weight: 16000個 cuda:0に存在\n",
      "fc1.bias: 50個 cuda:0に存在\n",
      "fc2.weight: 500個 cuda:0に存在\n",
      "fc2.bias: 10個 cuda:0に存在\n",
      "\n",
      "合計パラメータ数: 21840個\n"
     ]
    }
   ],
   "source": [
    "# パラメータの確認\n",
    "\n",
    "# モデルのインスタンス化\n",
    "model = Net()\n",
    "device = torch.device(\"cuda\" if torch.cuda.is_available() else \"cpu\")\n",
    "model.to(device)\n",
    "print(f\"モデルのパラメータの場所: {next(model.parameters()).device}\")\n",
    "\n",
    "print(\"\\n各層のパラメータ:\")\n",
    "total_params = 0\n",
    "for name, param in model.named_parameters():\n",
    "    print(f\"{name}: {np.prod(param.size())}個 {param.device}に存在\")\n",
    "    total_params += param.numel()\n",
    "\n",
    "print(f\"\\n合計パラメータ数: {total_params}個\")"
   ]
  },
  {
   "cell_type": "code",
   "execution_count": 26,
   "metadata": {
    "id": "USLUvwCKwtbi"
   },
   "outputs": [],
   "source": [
    "from torch.optim import SGD\n",
    "\n",
    "def train(num_epochs=1, debug=False):\n",
    "    model = Net().to(device)\n",
    "\n",
    "    # 損失関数を定義\n",
    "    optimizer = SGD(model.parameters(), lr=0.01, momentum=0.5)\n",
    "\n",
    "    # ログ\n",
    "    train_log_x = []\n",
    "    train_log_y = []\n",
    "    test_log_x = []\n",
    "    test_log_y = []\n",
    "\n",
    "    for epoch in range(num_epochs):\n",
    "        if not debug: print(f\"エポック: {epoch + 1}\")\n",
    "        for batch_index, (data, target) in enumerate(train_loader):\n",
    "            # 勾配を計算すjる学習モードに設定\n",
    "            model.train()\n",
    "\n",
    "            # 勾配を初期化\n",
    "            optimizer.zero_grad()\n",
    "\n",
    "            # データをGPUに転送\n",
    "            data, target = data.to(device), target.to(device)\n",
    "\n",
    "            # モデルにデータを入力して予測を取得\n",
    "            output = model(data, debug=debug)\n",
    "\n",
    "            # 損失を計算\n",
    "            loss = F.nll_loss(output, target)\n",
    "\n",
    "            # 勾配を計算\n",
    "            loss.backward()\n",
    "\n",
    "            # パラメータの更新\n",
    "            optimizer.step()\n",
    "\n",
    "            # 100バッチごとに進捗を表示し、パラメータを保存\n",
    "            if batch_index % 100 == 0 and not debug:\n",
    "                data_num = batch_index * len(data)\n",
    "                dataset_data_num = len(train_loader.dataset)\n",
    "                total_trained = data_num + epoch * dataset_data_num\n",
    "                train_log_x.append(total_trained)\n",
    "                train_log_y.append(loss.item())\n",
    "                print(f\"バッチ:{batch_index}, データ:{data_num}/{dataset_data_num}, 損失: {loss.item()}\")\n",
    "\n",
    "                model_file_path = \"./model.path\"\n",
    "                optimizer_file_path = \"./optimizer.pth\"\n",
    "                torch.save(model.state_dict(), model_file_path)\n",
    "                torch.save(optimizer.state_dict(), optimizer_file_path)\n",
    "                print(f\"モデルを保存しました: {model_file_path}\")\n",
    "                print(f\"オプティマイザを保存しました: {optimizer_file_path}\")\n",
    "\n",
    "            if debug: return\n",
    "\n",
    "        # エポック毎にテストデータで評価\n",
    "        model.eval()\n",
    "        test_loss = 0\n",
    "        correct = 0\n",
    "        with torch.no_grad():\n",
    "            for data, target in test_loader:\n",
    "                data = data.to(device)\n",
    "                target = target.to(device)\n",
    "                output = model(data)\n",
    "                test_loss += F.nll_loss(output, target, reduction=\"sum\").item()\n",
    "                pred = output.data.max(1, keepdim=True)[1]\n",
    "                correct += pred.eq(target.data.view_as(pred)).sum()\n",
    "        test_loss /= len(test_loader.dataset)\n",
    "        test_log_x.append(epoch * len(train_loader.dataset))\n",
    "        test_log_y.append(test_loss)\n",
    "        print(f\"テストデータでの損失:{test_loss}, 正解率: ({int(100. * correct / len(test_loader.dataset))}%)\")\n",
    "\n",
    "    plt.figure()\n",
    "    plt.plot(train_log_x, train_log_y, label=\"train\", color=\"blue\")\n",
    "    plt.scatter(test_log_x, test_log_y, label=\"test\", color=\"red\")\n",
    "    plt.legend([\"train\", \"test\"])\n",
    "    plt.xlabel(\"Number of training data\")\n",
    "    plt.ylabel(\"Negative log likelihood loss\")\n"
   ]
  },
  {
   "cell_type": "code",
   "execution_count": 27,
   "metadata": {
    "colab": {
     "base_uri": "https://localhost:8080/"
    },
    "id": "85KzaQNEwtbj",
    "outputId": "595c93c5-d7ed-40ce-e45e-4b5769e4f25d"
   },
   "outputs": [
    {
     "name": "stdout",
     "output_type": "stream",
     "text": [
      "入力データの次元: torch.Size([64, 1, 28, 28])\n",
      "畳み込み１層後: torch.Size([64, 10, 24, 24])\n",
      "プーリング１層後: torch.Size([64, 10, 12, 12])\n",
      "畳み込み２層後: torch.Size([64, 20, 8, 8])\n",
      "プーリング２層後: torch.Size([64, 20, 4, 4])\n",
      "1次元テンソルに変換後: torch.Size([64, 320])\n",
      "全結合層１後: torch.Size([64, 50])\n",
      "全結合層２後: torch.Size([64, 10])\n"
     ]
    }
   ],
   "source": [
    "# 1エポックでテスト\n",
    "train(1, debug=True)"
   ]
  },
  {
   "cell_type": "code",
   "execution_count": 28,
   "metadata": {
    "colab": {
     "base_uri": "https://localhost:8080/",
     "height": 1000
    },
    "id": "6hB50TTkwtbj",
    "outputId": "f11cc155-10e0-4e18-f5be-0d6d0c3f3a5e"
   },
   "outputs": [
    {
     "name": "stdout",
     "output_type": "stream",
     "text": [
      "エポック: 1\n",
      "バッチ:0, データ:0/60000, 損失: 2.296079635620117\n",
      "モデルを保存しました: ./model.path\n",
      "オプティマイザを保存しました: ./optimizer.pth\n",
      "バッチ:100, データ:6400/60000, 損失: 2.0515687465667725\n",
      "モデルを保存しました: ./model.path\n",
      "オプティマイザを保存しました: ./optimizer.pth\n",
      "バッチ:200, データ:12800/60000, 損失: 1.1838958263397217\n",
      "モデルを保存しました: ./model.path\n",
      "オプティマイザを保存しました: ./optimizer.pth\n",
      "バッチ:300, データ:19200/60000, 損失: 0.8453249931335449\n",
      "モデルを保存しました: ./model.path\n",
      "オプティマイザを保存しました: ./optimizer.pth\n",
      "バッチ:400, データ:25600/60000, 損失: 0.6645405888557434\n",
      "モデルを保存しました: ./model.path\n",
      "オプティマイザを保存しました: ./optimizer.pth\n",
      "バッチ:500, データ:32000/60000, 損失: 0.5061500072479248\n",
      "モデルを保存しました: ./model.path\n",
      "オプティマイザを保存しました: ./optimizer.pth\n",
      "バッチ:600, データ:38400/60000, 損失: 0.75609290599823\n",
      "モデルを保存しました: ./model.path\n",
      "オプティマイザを保存しました: ./optimizer.pth\n",
      "バッチ:700, データ:44800/60000, 損失: 0.4581567049026489\n",
      "モデルを保存しました: ./model.path\n",
      "オプティマイザを保存しました: ./optimizer.pth\n",
      "バッチ:800, データ:51200/60000, 損失: 0.4252614676952362\n",
      "モデルを保存しました: ./model.path\n",
      "オプティマイザを保存しました: ./optimizer.pth\n",
      "バッチ:900, データ:57600/60000, 損失: 0.40897712111473083\n",
      "モデルを保存しました: ./model.path\n",
      "オプティマイザを保存しました: ./optimizer.pth\n",
      "テストデータでの損失:0.18517174072265624, 正解率: (94%)\n",
      "エポック: 2\n",
      "バッチ:0, データ:0/60000, 損失: 0.4541599452495575\n",
      "モデルを保存しました: ./model.path\n",
      "オプティマイザを保存しました: ./optimizer.pth\n",
      "バッチ:100, データ:6400/60000, 損失: 0.38960790634155273\n",
      "モデルを保存しました: ./model.path\n",
      "オプティマイザを保存しました: ./optimizer.pth\n",
      "バッチ:200, データ:12800/60000, 損失: 0.32557693123817444\n",
      "モデルを保存しました: ./model.path\n",
      "オプティマイザを保存しました: ./optimizer.pth\n",
      "バッチ:300, データ:19200/60000, 損失: 0.37846437096595764\n",
      "モデルを保存しました: ./model.path\n",
      "オプティマイザを保存しました: ./optimizer.pth\n",
      "バッチ:400, データ:25600/60000, 損失: 0.4386146068572998\n",
      "モデルを保存しました: ./model.path\n",
      "オプティマイザを保存しました: ./optimizer.pth\n",
      "バッチ:500, データ:32000/60000, 損失: 0.2085365355014801\n",
      "モデルを保存しました: ./model.path\n",
      "オプティマイザを保存しました: ./optimizer.pth\n",
      "バッチ:600, データ:38400/60000, 損失: 0.4148644804954529\n",
      "モデルを保存しました: ./model.path\n",
      "オプティマイザを保存しました: ./optimizer.pth\n",
      "バッチ:700, データ:44800/60000, 損失: 0.35755881667137146\n",
      "モデルを保存しました: ./model.path\n",
      "オプティマイザを保存しました: ./optimizer.pth\n",
      "バッチ:800, データ:51200/60000, 損失: 0.3972204625606537\n",
      "モデルを保存しました: ./model.path\n",
      "オプティマイザを保存しました: ./optimizer.pth\n",
      "バッチ:900, データ:57600/60000, 損失: 0.30059361457824707\n",
      "モデルを保存しました: ./model.path\n",
      "オプティマイザを保存しました: ./optimizer.pth\n",
      "テストデータでの損失:0.12307803039550781, 正解率: (96%)\n",
      "エポック: 3\n",
      "バッチ:0, データ:0/60000, 損失: 0.2648788392543793\n",
      "モデルを保存しました: ./model.path\n",
      "オプティマイザを保存しました: ./optimizer.pth\n",
      "バッチ:100, データ:6400/60000, 損失: 0.31184086203575134\n",
      "モデルを保存しました: ./model.path\n",
      "オプティマイザを保存しました: ./optimizer.pth\n",
      "バッチ:200, データ:12800/60000, 損失: 0.25891566276550293\n",
      "モデルを保存しました: ./model.path\n",
      "オプティマイザを保存しました: ./optimizer.pth\n",
      "バッチ:300, データ:19200/60000, 損失: 0.20508253574371338\n",
      "モデルを保存しました: ./model.path\n",
      "オプティマイザを保存しました: ./optimizer.pth\n",
      "バッチ:400, データ:25600/60000, 損失: 0.26593929529190063\n",
      "モデルを保存しました: ./model.path\n",
      "オプティマイザを保存しました: ./optimizer.pth\n",
      "バッチ:500, データ:32000/60000, 損失: 0.4333666265010834\n",
      "モデルを保存しました: ./model.path\n",
      "オプティマイザを保存しました: ./optimizer.pth\n",
      "バッチ:600, データ:38400/60000, 損失: 0.3968849182128906\n",
      "モデルを保存しました: ./model.path\n",
      "オプティマイザを保存しました: ./optimizer.pth\n",
      "バッチ:700, データ:44800/60000, 損失: 0.2670155167579651\n",
      "モデルを保存しました: ./model.path\n",
      "オプティマイザを保存しました: ./optimizer.pth\n",
      "バッチ:800, データ:51200/60000, 損失: 0.3235894739627838\n",
      "モデルを保存しました: ./model.path\n",
      "オプティマイザを保存しました: ./optimizer.pth\n",
      "バッチ:900, データ:57600/60000, 損失: 0.28096333146095276\n",
      "モデルを保存しました: ./model.path\n",
      "オプティマイザを保存しました: ./optimizer.pth\n",
      "テストデータでの損失:0.0898332872390747, 正解率: (97%)\n",
      "エポック: 4\n",
      "バッチ:0, データ:0/60000, 損失: 0.27181822061538696\n",
      "モデルを保存しました: ./model.path\n",
      "オプティマイザを保存しました: ./optimizer.pth\n",
      "バッチ:100, データ:6400/60000, 損失: 0.2255869060754776\n",
      "モデルを保存しました: ./model.path\n",
      "オプティマイザを保存しました: ./optimizer.pth\n",
      "バッチ:200, データ:12800/60000, 損失: 0.3012327551841736\n",
      "モデルを保存しました: ./model.path\n",
      "オプティマイザを保存しました: ./optimizer.pth\n",
      "バッチ:300, データ:19200/60000, 損失: 0.12949606776237488\n",
      "モデルを保存しました: ./model.path\n",
      "オプティマイザを保存しました: ./optimizer.pth\n",
      "バッチ:400, データ:25600/60000, 損失: 0.6577957272529602\n",
      "モデルを保存しました: ./model.path\n",
      "オプティマイザを保存しました: ./optimizer.pth\n",
      "バッチ:500, データ:32000/60000, 損失: 0.21980291604995728\n",
      "モデルを保存しました: ./model.path\n",
      "オプティマイザを保存しました: ./optimizer.pth\n",
      "バッチ:600, データ:38400/60000, 損失: 0.2746126055717468\n",
      "モデルを保存しました: ./model.path\n",
      "オプティマイザを保存しました: ./optimizer.pth\n",
      "バッチ:700, データ:44800/60000, 損失: 0.24745939671993256\n",
      "モデルを保存しました: ./model.path\n",
      "オプティマイザを保存しました: ./optimizer.pth\n",
      "バッチ:800, データ:51200/60000, 損失: 0.15839417278766632\n",
      "モデルを保存しました: ./model.path\n",
      "オプティマイザを保存しました: ./optimizer.pth\n",
      "バッチ:900, データ:57600/60000, 損失: 0.13114657998085022\n",
      "モデルを保存しました: ./model.path\n",
      "オプティマイザを保存しました: ./optimizer.pth\n",
      "テストデータでの損失:0.07956214141845704, 正解率: (97%)\n",
      "エポック: 5\n",
      "バッチ:0, データ:0/60000, 損失: 0.06758825480937958\n",
      "モデルを保存しました: ./model.path\n",
      "オプティマイザを保存しました: ./optimizer.pth\n",
      "バッチ:100, データ:6400/60000, 損失: 0.304667204618454\n",
      "モデルを保存しました: ./model.path\n",
      "オプティマイザを保存しました: ./optimizer.pth\n",
      "バッチ:200, データ:12800/60000, 損失: 0.19464926421642303\n",
      "モデルを保存しました: ./model.path\n",
      "オプティマイザを保存しました: ./optimizer.pth\n",
      "バッチ:300, データ:19200/60000, 損失: 0.23584485054016113\n",
      "モデルを保存しました: ./model.path\n",
      "オプティマイザを保存しました: ./optimizer.pth\n",
      "バッチ:400, データ:25600/60000, 損失: 0.1521199345588684\n",
      "モデルを保存しました: ./model.path\n",
      "オプティマイザを保存しました: ./optimizer.pth\n",
      "バッチ:500, データ:32000/60000, 損失: 0.2538730800151825\n",
      "モデルを保存しました: ./model.path\n",
      "オプティマイザを保存しました: ./optimizer.pth\n",
      "バッチ:600, データ:38400/60000, 損失: 0.28073549270629883\n",
      "モデルを保存しました: ./model.path\n",
      "オプティマイザを保存しました: ./optimizer.pth\n",
      "バッチ:700, データ:44800/60000, 損失: 0.11868344992399216\n",
      "モデルを保存しました: ./model.path\n",
      "オプティマイザを保存しました: ./optimizer.pth\n",
      "バッチ:800, データ:51200/60000, 損失: 0.2405119091272354\n",
      "モデルを保存しました: ./model.path\n",
      "オプティマイザを保存しました: ./optimizer.pth\n",
      "バッチ:900, データ:57600/60000, 損失: 0.40071162581443787\n",
      "モデルを保存しました: ./model.path\n",
      "オプティマイザを保存しました: ./optimizer.pth\n",
      "テストデータでの損失:0.06987075023651124, 正解率: (97%)\n"
     ]
    },
    {
     "data": {
      "image/png": "[encoded data removed]",
      "text/plain": [
       "<Figure size 640x480 with 1 Axes>"
      ]
     },
     "metadata": {},
     "output_type": "display_data"
    }
   ],
   "source": [
    "# 学習開始\n",
    "train(num_epochs=5)"
   ]
  },
  {
   "cell_type": "code",
   "execution_count": 104,
   "metadata": {
    "colab": {
     "base_uri": "https://localhost:8080/",
     "height": 481
    },
    "id": "lkohex79wtbj",
    "outputId": "b0093140-d430-4772-cfc3-253736338233"
   },
   "outputs": [
    {
     "name": "stderr",
     "output_type": "stream",
     "text": [
      "<ipython-input-104-4b5e983abbcb>:23: FutureWarning: You are using `torch.load` with `weights_only=False` (the current default value), which uses the default pickle module implicitly. It is possible to construct malicious pickle data which will execute arbitrary code during unpickling (See https://github.com/pytorch/pytorch/blob/main/SECURITY.md#untrusted-models for more details). In a future release, the default value for `weights_only` will be flipped to `True`. This limits the functions that could be executed during unpickling. Arbitrary objects will no longer be allowed to be loaded via this mode unless they are explicitly allowlisted by the user via `torch.serialization.add_safe_globals`. We recommend you start setting `weights_only=True` for any use case where you don't have full control of the loaded file. Please open an issue on GitHub for any issues related to this experimental feature.\n",
      "  model.load_state_dict(torch.load(\"./model.pth\"))\n"
     ]
    },
    {
     "data": {
      "image/png": "[encoded data removed]",
      "text/plain": [
       "<Figure size 640x480 with 1 Axes>"
      ]
     },
     "metadata": {},
     "output_type": "display_data"
    }
   ],
   "source": [
    "# ランダムに画像を選び変形して予測\n",
    "\n",
    "import random\n",
    "\n",
    "def evaluate():\n",
    "    random_index = random.randint(0, len(test_dataset) - 1)\n",
    "    data = test_dataset[random_index]\n",
    "\n",
    "    augument_sample = torchvision.transforms.Compose([\n",
    "        torchvision.transforms.GaussianBlur(kernel_size=(5, 9), sigma=(0.1, 3)),\n",
    "        torchvision.transforms.RandomRotation(degrees=(0, 60)),\n",
    "    ]);\n",
    "\n",
    "    image_tensor = augument_sample(data[0])\n",
    "\n",
    "    transform_sample = torchvision.transforms.Compose([\n",
    "        torchvision.transforms.Resize((28, 28)),\n",
    "        torchvision.transforms.Grayscale(num_output_channels=1),\n",
    "        torchvision.transforms.Normalize((0.1307,), (0.3081,)),\n",
    "    ])\n",
    "    transformed = transform_sample(image_tensor)\n",
    "    model = Net().to(device)\n",
    "    model.load_state_dict(torch.load(\"./model.pth\"))\n",
    "    model.eval()\n",
    "    prediction = model(transformed.unsqueeze(0).to(device))\n",
    "    image_numpy = image_tensor.squeeze().cpu().detach().numpy()\n",
    "\n",
    "    plt.xticks([])\n",
    "    plt.yticks([])\n",
    "    plt.imshow(image_numpy, cmap=\"gray\")\n",
    "    plt.title(f\"Predicted: {prediction.argmax().item()}, Label: {data[1]}\")\n",
    "\n",
    "evaluate()"
   ]
  }
 ],
 "metadata": {
  "accelerator": "GPU",
  "colab": {
   "gpuType": "T4",
   "provenance": []
  },
  "kernelspec": {
   "display_name": "Python 3",
   "name": "python3"
  },
  "language_info": {
   "codemirror_mode": {
    "name": "ipython",
    "version": 3
   },
   "file_extension": ".py",
   "mimetype": "text/x-python",
   "name": "python",
   "nbconvert_exporter": "python",
   "pygments_lexer": "ipython3",
   "version": "3.12.7"
  }
 },
 "nbformat": 4,
 "nbformat_minor": 0
}
